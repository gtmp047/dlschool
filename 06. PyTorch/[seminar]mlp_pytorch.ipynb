{
 "cells": [
  {
   "cell_type": "markdown",
   "metadata": {
    "colab_type": "text",
    "id": "aaSoSTVpYJcu"
   },
   "source": [
    "<p style=\"align: center;\"><img src=\"https://static.tildacdn.com/tild6636-3531-4239-b465-376364646465/Deep_Learning_School.png\", width=300, height=300></p>\n",
    "\n",
    "<h3 style=\"text-align: center;\"><b>Физтех-Школа Прикладной математики и информатики (ФПМИ) МФТИ</b></h3>"
   ]
  },
  {
   "cell_type": "markdown",
   "metadata": {
    "colab_type": "text",
    "id": "GpZt9IYkYJcw"
   },
   "source": [
    "---"
   ]
  },
  {
   "cell_type": "markdown",
   "metadata": {
    "colab_type": "text",
    "id": "s4wplUzDYJcx"
   },
   "source": [
    "<h2 style=\"text-align: center;\"><b>Многослойная сеть на PyTorch</b></h3>"
   ]
  },
  {
   "cell_type": "markdown",
   "metadata": {
    "colab_type": "text",
    "id": "J2msuyHTYJcx"
   },
   "source": [
    "В этом ноутбке мы научимся писать свои нейросети на фреймворке PyTorch, конкретно - рассмотрим, как написать многослойную полносвязную сеть (Fully-Connected, FC), и сравним их качество на датасете картинок MNIST."
   ]
  },
  {
   "cell_type": "markdown",
   "metadata": {
    "colab_type": "text",
    "id": "9xJnMEZrYJcz"
   },
   "source": [
    "<h3 style=\"text-align: center;\"><b>Компоненты нейросети</b></h3>"
   ]
  },
  {
   "cell_type": "markdown",
   "metadata": {
    "colab_type": "text",
    "id": "InwacmvIYJc0"
   },
   "source": [
    "Здесь самое время напомнить о том, какие вещи играют принципиальную роль в построении любой ***нейронной сети*** (все их мы задаём *руками*, самостоятельно):  \n",
    "\n",
    "- непосредственно, сама **архитектура** нейросети (сюда входят типы функций активации у каждого нейрона);\n",
    "- начальная **инициализация** весов каждого слоя;\n",
    "- метод **оптимизации** нейросети (сюда ещё входит метод изменения `learning_rate`);\n",
    "- размер **батчей** (`batch_size`);\n",
    "- количество итераций обучения (`num_epochs`);\n",
    "- **функция потерь** (`loss`);  \n",
    "- тип **регуляризации** нейросети (для каждого слоя можно свой);  \n",
    "\n",
    "То, что связано с ***данными и задачей***:  \n",
    "- само **качество** выборки (непротиворечивость, чистота, корректность постановки задачи);  \n",
    "- **размер** выборки;  "
   ]
  },
  {
   "cell_type": "markdown",
   "metadata": {
    "colab_type": "text",
    "id": "tXujEOB0YJc1"
   },
   "source": [
    "<h3 style=\"text-align: center;\"><b>Многослойная нейронная сеть</b></h3>"
   ]
  },
  {
   "cell_type": "markdown",
   "metadata": {
    "colab_type": "text",
    "id": "mnxH-DajYJc3"
   },
   "source": [
    "Как можно понять из названия, многослойная нейросеть состоит из нескольких **слоёв**. Каждый слой состоит из **нейронов**. Ранее мы уже писали свой нейрон на NumPy, вот из таких нейронов и состоит ***MLP (Multi-Layer Perceptron)***. Ещё такую многослойную нейросеть, у которой каждый нейрон на предыдущем уровне соединён с нейроном на следующем уровне, называют ***Fully-Connected-сетью*** (или ***Dense-сетью***).  \n",
    "\n",
    "Расмотрим их устройство более подробно:"
   ]
  },
  {
   "cell_type": "markdown",
   "metadata": {
    "colab_type": "text",
    "id": "onjJUneMYJc5"
   },
   "source": [
    "* Вот так выглядит двухслойная нейросеть (первый слой - input layer - не считается, потому что это, по сути, не слой):"
   ]
  },
  {
   "cell_type": "markdown",
   "metadata": {
    "colab_type": "text",
    "id": "owRRulLzYJc6"
   },
   "source": [
    "<img src=\"http://cs231n.github.io/assets/nn1/neural_net.jpeg\" width=300, height=200>"
   ]
  },
  {
   "cell_type": "markdown",
   "metadata": {
    "colab_type": "text",
    "id": "tFNxGGBEYJc8"
   },
   "source": [
    "* Так выглядит трёхслойная нейросеть:"
   ]
  },
  {
   "cell_type": "markdown",
   "metadata": {
    "colab_type": "text",
    "id": "zRaKX35eYJc9"
   },
   "source": [
    "<img src=\"http://cs231n.github.io/assets/nn1/neural_net2.jpeg\" width=400, height=300>"
   ]
  },
  {
   "cell_type": "markdown",
   "metadata": {
    "colab_type": "text",
    "id": "6w1FTkO1YJc-"
   },
   "source": [
    ".. и так далее для большего случая слоёв."
   ]
  },
  {
   "cell_type": "markdown",
   "metadata": {
    "colab_type": "text",
    "id": "8iKV7m5YYJc_"
   },
   "source": [
    "**Обратите внимание:** связи есть у нейронов со слоя $L_{i-1}$  и нейронов $L_{i}$, но между нейронами в одном слое связей **нет**."
   ]
  },
  {
   "cell_type": "markdown",
   "metadata": {
    "colab_type": "text",
    "id": "URV9qWkfYJdA"
   },
   "source": [
    "**Входной слой** -- это данные (матрица $(n, m)$)."
   ]
  },
  {
   "cell_type": "markdown",
   "metadata": {
    "colab_type": "text",
    "id": "zK8tWuHHYJdB"
   },
   "source": [
    "Слои, которые не являются входными или выходными, называются **скрытыми слоями (hidden layers)**."
   ]
  },
  {
   "cell_type": "markdown",
   "metadata": {
    "colab_type": "text",
    "id": "fz9clUlCYJdC"
   },
   "source": [
    "При решении ***задачи регрессии*** на **выходном слое** обычно один нейрон, который возвращает предсказанные числа (для каждого объекта по числу).  \n",
    "\n",
    "В случае ***задачи классификации*** на **выходном слое** обычно один нейрон, если задача бинарной классификации, и $K$ нейронов, если задача $K$-класовой классификации."
   ]
  },
  {
   "cell_type": "markdown",
   "metadata": {
    "colab_type": "text",
    "id": "nJblXqY5YJdE"
   },
   "source": [
    "#### Forward pass в MLP"
   ]
  },
  {
   "cell_type": "markdown",
   "metadata": {
    "colab_type": "text",
    "id": "D87xoAl8YJdF"
   },
   "source": [
    "Каждый слой многослойной нейросети - это матрица весов, строки которой - это нейроны (одна строка - один нейрон), а столбцы - веса каждого нейрона (то есть одна строка - это веса одного нейрона)."
   ]
  },
  {
   "cell_type": "markdown",
   "metadata": {
    "colab_type": "text",
    "collapsed": true,
    "id": "RyXUqCfVYJdG"
   },
   "source": [
    "Допустим, мы решаем задачу $K$-классовой классификации (на последнем слое $K$ нейронов). Рассмотрим, как в таком случае выглядит `forward_pass` нейросети:"
   ]
  },
  {
   "cell_type": "markdown",
   "metadata": {
    "colab_type": "text",
    "id": "YO6gHbOjYJdH"
   },
   "source": [
    "* Вход: $$X =\n",
    "\\left(\n",
    "\\begin{matrix} \n",
    "x_{11} & ... & x_{1M} \\\\\n",
    "... & \\ddots  & ...\\\\\n",
    "x_{N1} & ... & x_{NM} \n",
    "\\end{matrix}\n",
    "\\right)\n",
    "$$\n",
    "\n",
    "-- матрица $(N, M)$"
   ]
  },
  {
   "cell_type": "markdown",
   "metadata": {
    "colab_type": "text",
    "collapsed": true,
    "id": "XdImZiQkYJdI"
   },
   "source": [
    "* Структура сети - много слоёв, в слоях много нейронов. Первый слой (после входного) выглядит так:"
   ]
  },
  {
   "cell_type": "markdown",
   "metadata": {
    "colab_type": "text",
    "id": "U2c2M4MJYJdJ"
   },
   "source": [
    "$$ W^1 =\n",
    "\\left(\n",
    "\\begin{matrix} \n",
    "w_{11} & ... & w_{1L_1} \\\\\n",
    "... & \\ddots  & ...\\\\\n",
    "w_{M1} & ... & w_{ML_1} \n",
    "\\end{matrix}\n",
    "\\right)\n",
    "$$\n",
    "\n",
    "-- матрица $(M, L_1)$"
   ]
  },
  {
   "cell_type": "markdown",
   "metadata": {
    "colab_type": "text",
    "id": "UUCdeLN0YJdK"
   },
   "source": [
    "То есть это в точности $L_1$ нейронов, каждый имеет свои собственные веса, их $M$ штук."
   ]
  },
  {
   "cell_type": "markdown",
   "metadata": {
    "colab_type": "text",
    "id": "ixHtlMwKYJdL"
   },
   "source": [
    "Мы помним, что нейрон - это линейное преобразование и потом нелинейная функция активации от этого преобразования. Однако в многослойных нейростеях часто отделяют `Linear` часть и `Activation`, то есть слоем считаем набор весов нейронов, а следующий слой всегда функция активации (у всех нейронов из слоя она одна и та же, обычно фреймворки не позволяют задавать конкретному нейрону в слое отличную от других нейронов в этом слое функцию активации, однако это легко сделать, объявив слой из одного нейрона)."
   ]
  },
  {
   "cell_type": "markdown",
   "metadata": {
    "colab_type": "text",
    "id": "AUt1NgTvYJdN"
   },
   "source": [
    "* Другие слои выглядит точно так же, как первый слой. Например, у второй слой будет такой:"
   ]
  },
  {
   "cell_type": "markdown",
   "metadata": {
    "colab_type": "text",
    "id": "IdtSTvTmYJdN"
   },
   "source": [
    "$$ W^2 =\n",
    "\\left(\n",
    "\\begin{matrix} \n",
    "w_{11} & ... & w_{1L_2} \\\\\n",
    "... & \\ddots  & ...\\\\\n",
    "w_{L_11} & ... & w_{L_1L_2} \n",
    "\\end{matrix}\n",
    "\\right)\n",
    "$$\n",
    "\n",
    "-- матрица $(L_1, L_2)$"
   ]
  },
  {
   "cell_type": "markdown",
   "metadata": {
    "colab_type": "text",
    "id": "R3nGnHoLYJdP"
   },
   "source": [
    "То есть это в точности $L_2$ нейронов, каждый имеет свои собственные веса, их $L_1$ штук."
   ]
  },
  {
   "cell_type": "markdown",
   "metadata": {
    "colab_type": "text",
    "id": "bQhOAQjSYJdR"
   },
   "source": [
    "* Выходной слой:  \n",
    "\n",
    "Пусть в нейросети до выходного слоя идут $t$ слоёв. Тогда выходной слой имеет форму:"
   ]
  },
  {
   "cell_type": "markdown",
   "metadata": {
    "colab_type": "text",
    "id": "fWvqm-K0YJdT"
   },
   "source": [
    "$$ W^{out} =\n",
    "\\left(\n",
    "\\begin{matrix} \n",
    "w_{11} & ... & w_{1K} \\\\\n",
    "... & \\ddots  & ...\\\\\n",
    "w_{L_t1} & ... & w_{L_tK} \n",
    "\\end{matrix}\n",
    "\\right)\n",
    "$$\n",
    "\n",
    "-- матрица $(L_t, K)$, где $L_t$ - количество нейронов в $t$-ом слое, а $K$ -- количество классов."
   ]
  },
  {
   "cell_type": "markdown",
   "metadata": {
    "colab_type": "text",
    "id": "2z5tO89NYJdU"
   },
   "source": [
    "В итоге ***для `forward_pass` нам нужно просто последовтельно перемножить матрицы друг за другом, применяя после каждого умножения соответсвующую функцию активации***."
   ]
  },
  {
   "cell_type": "markdown",
   "metadata": {
    "colab_type": "text",
    "id": "IZT4GgsCYJdV"
   },
   "source": [
    "*Примечание*: можно думать об умножении на очередную матрицу весов как на переход в **новое признаковое пространство**. Действительно, когда подаём матрицу $X$ и умножаем на матрицу первого слоя, мы получаем матрицу размера $(N, L_1)$, то есть как будто $L_1$ \"новых\" признаков (построенных как линейная комбинация старых до применения функции активации, и уже как нелинейная комбинация после активации)."
   ]
  },
  {
   "cell_type": "markdown",
   "metadata": {
    "colab_type": "text",
    "id": "4RhJ4fsHYJdW"
   },
   "source": [
    "**Backward pass в MLP**"
   ]
  },
  {
   "cell_type": "markdown",
   "metadata": {
    "colab_type": "text",
    "id": "MYN043DbYJdX"
   },
   "source": [
    "Обучается с помощью метода \"Error Backpropagation\" - [\"Обратное распространение ошибки\"](https://ru.wikipedia.org/wiki/%D0%9C%D0%B5%D1%82%D0%BE%D0%B4_%D0%BE%D0%B1%D1%80%D0%B0%D1%82%D0%BD%D0%BE%D0%B3%D0%BE_%D1%80%D0%B0%D1%81%D0%BF%D1%80%D0%BE%D1%81%D1%82%D1%80%D0%B0%D0%BD%D0%B5%D0%BD%D0%B8%D1%8F_%D0%BE%D1%88%D0%B8%D0%B1%D0%BA%D0%B8), принцип распространения очень похож на то, как мы обучали один нейрон - это градиентный спуск, но по \"всей нейросети\" сразу.  "
   ]
  },
  {
   "cell_type": "markdown",
   "metadata": {
    "colab_type": "text",
    "collapsed": true,
    "id": "oK7Vi4bxYJdZ"
   },
   "source": [
    "Backpropagation работает корректно благодаря ***chain rule*** (=правилу взятия производной сложной функции):  \n",
    "\n",
    "Если $f(x) = f(g(x))$, то:  \n",
    "\n",
    "$$\\frac{\\partial{f}}{\\partial{x}} = \\frac{\\partial{f}}{\\partial{g}} \\frac{\\partial{g}}{\\partial{x}}$$"
   ]
  },
  {
   "cell_type": "markdown",
   "metadata": {
    "colab_type": "text",
    "collapsed": true,
    "id": "WKvMsaEBYJda"
   },
   "source": [
    "Более подробно про backpropagation можно прочитать здесь (на английском):  https://mattmazur.com/2015/03/17/a-step-by-step-backpropagation-example/"
   ]
  },
  {
   "cell_type": "markdown",
   "metadata": {
    "colab_type": "text",
    "id": "z5dyjPVNYJdc"
   },
   "source": [
    "<h3 style=\"text-align: center;\"><b>Многослойная нейросеть на PyTorch</b></h3>"
   ]
  },
  {
   "cell_type": "markdown",
   "metadata": {
    "colab_type": "text",
    "id": "T9ufk3ECYJde"
   },
   "source": [
    "Ешё раз напомним про основные компоненты нейросети:\n",
    "\n",
    "- непосредственно, сама **архитектура** нейросети (сюда входят типы функций активации у каждого нейрона);\n",
    "- начальная **инициализация** весов каждого слоя;\n",
    "- метод **оптимизации** нейросети (сюда ещё входит метод изменения `learning_rate`);\n",
    "- размер **батчей** (`batch_size`);\n",
    "- количетсво итераций обучения (`num_epochs`);\n",
    "- **функция потерь** (`loss`);  \n",
    "- тип **регуляризации** нейросети (для каждого слоя можно свой);  \n",
    "\n",
    "То, что связано с ***данными и задачей***:  \n",
    "- само **качество** выборки (непротиворечивость, чистота, корректность постановки задачи);  \n",
    "- **размер** выборки;  "
   ]
  },
  {
   "cell_type": "markdown",
   "metadata": {
    "colab_type": "text",
    "id": "9KrWarqTYJdf"
   },
   "source": [
    "Не будем медлить - бахнем 100 нейронов в двуслойную нейросеть (датасет - снова \"Игрушка дьявола\"):"
   ]
  },
  {
   "cell_type": "code",
   "execution_count": 1,
   "metadata": {
    "colab": {},
    "colab_type": "code",
    "id": "bLjkPg19YJdg"
   },
   "outputs": [],
   "source": [
    "import matplotlib.pyplot as plt\n",
    "import numpy as np\n",
    "\n",
    "import torch"
   ]
  },
  {
   "cell_type": "markdown",
   "metadata": {
    "colab_type": "text",
    "id": "iCDVRvQJYJdl"
   },
   "source": [
    "Генерация и отрисовка датасета:"
   ]
  },
  {
   "cell_type": "code",
   "execution_count": 2,
   "metadata": {
    "colab": {},
    "colab_type": "code",
    "id": "k0J27RcLYJdm"
   },
   "outputs": [],
   "source": [
    "# код для генерации взят из Стэнфордсокго курса:\n",
    "# http://cs231n.github.io/neural-networks-case-study/#linear\n",
    "\n",
    "N = 100\n",
    "D = 2\n",
    "K = 3\n",
    "X = np.zeros((N * K, D))\n",
    "y = np.zeros(N * K, dtype='uint8')\n",
    "\n",
    "for j in range(K):\n",
    "    ix = range(N * j,N * (j + 1))\n",
    "    r = np.linspace(0.0, 1, N)\n",
    "    t = np.linspace(j * 4, (j + 1) * 4,N) + np.random.randn(N) * 0.2 # theta\n",
    "    X[ix] = np.c_[r * np.sin(t), r * np.cos(t)]\n",
    "    y[ix] = j"
   ]
  },
  {
   "cell_type": "markdown",
   "metadata": {
    "colab_type": "text",
    "id": "X9FHhqX_YJdp"
   },
   "source": [
    "Не забываем оборачивать данные (без этого градиенты не посчитать):"
   ]
  },
  {
   "cell_type": "code",
   "execution_count": 3,
   "metadata": {
    "colab": {},
    "colab_type": "code",
    "id": "pQINaQqZYJdq"
   },
   "outputs": [],
   "source": [
    "X = torch.autograd.Variable(torch.FloatTensor(X))\n",
    "y = torch.autograd.Variable(torch.LongTensor(y.astype(np.int64)))"
   ]
  },
  {
   "cell_type": "code",
   "execution_count": 4,
   "metadata": {
    "colab": {},
    "colab_type": "code",
    "id": "Who9mS8oYJdu",
    "outputId": "1ec6e30a-2cd9-4bd6-d0e0-3b7c936d1b8a"
   },
   "outputs": [
    {
     "name": "stdout",
     "output_type": "stream",
     "text": [
      "torch.Size([300, 2]) torch.Size([300])\n"
     ]
    }
   ],
   "source": [
    "print(X.data.shape, y.data.shape)"
   ]
  },
  {
   "cell_type": "markdown",
   "metadata": {
    "colab_type": "text",
    "id": "I-9dFW5CYJd0"
   },
   "source": [
    "Сама ячейка с сеткой и обучением:"
   ]
  },
  {
   "cell_type": "code",
   "execution_count": 5,
   "metadata": {
    "colab": {},
    "colab_type": "code",
    "id": "kf-YapleYJd1",
    "outputId": "d71315ae-670a-48e3-bcf7-b425ebe198fe"
   },
   "outputs": [
    {
     "name": "stderr",
     "output_type": "stream",
     "text": [
      "/usr/local/lib/python3.6/dist-packages/torch/nn/_reduction.py:46: UserWarning: size_average and reduce args will be deprecated, please use reduction='sum' instead.\n",
      "  warnings.warn(warning.format(ret))\n"
     ]
    },
    {
     "name": "stdout",
     "output_type": "stream",
     "text": [
      "0 336.71917724609375\n",
      "1 284.2412414550781\n",
      "2 259.6313781738281\n",
      "3 247.75364685058594\n",
      "4 244.04010009765625\n",
      "5 251.47047424316406\n",
      "6 267.23089599609375\n",
      "7 305.3859558105469\n",
      "8 304.5578918457031\n",
      "9 312.22503662109375\n",
      "10 296.1316833496094\n",
      "11 278.161865234375\n",
      "12 275.587890625\n",
      "13 258.3208312988281\n",
      "14 257.65753173828125\n",
      "15 245.32464599609375\n",
      "16 245.19998168945312\n",
      "17 236.70680236816406\n",
      "18 236.84974670410156\n",
      "19 230.82843017578125\n",
      "20 231.14442443847656\n",
      "21 226.65345764160156\n",
      "22 227.08432006835938\n",
      "23 223.5417022705078\n",
      "24 224.04600524902344\n",
      "25 221.09657287597656\n",
      "26 221.63967895507812\n",
      "27 219.0652618408203\n",
      "28 219.6195068359375\n",
      "29 217.28271484375\n",
      "30 217.8223876953125\n",
      "31 215.63766479492188\n",
      "32 216.1413116455078\n",
      "33 214.05841064453125\n",
      "34 214.50827026367188\n",
      "35 212.49891662597656\n",
      "36 212.88607788085938\n",
      "37 210.93849182128906\n",
      "38 211.25653076171875\n",
      "39 209.36647033691406\n",
      "40 209.6134033203125\n",
      "41 207.7829132080078\n",
      "42 207.95928955078125\n",
      "43 206.19056701660156\n",
      "44 206.3005828857422\n",
      "45 204.59747314453125\n",
      "46 204.64430236816406\n",
      "47 203.00518798828125\n",
      "48 202.992919921875\n",
      "49 201.41937255859375\n",
      "50 201.3528289794922\n",
      "51 199.84268188476562\n",
      "52 199.72439575195312\n",
      "53 198.2751922607422\n",
      "54 198.1069793701172\n",
      "55 196.716796875\n",
      "56 196.5043182373047\n",
      "57 195.16954040527344\n",
      "58 194.91409301757812\n",
      "59 193.63150024414062\n",
      "60 193.3379364013672\n",
      "61 192.10650634765625\n",
      "62 191.77825927734375\n",
      "63 190.59576416015625\n",
      "64 190.23707580566406\n",
      "65 189.09860229492188\n",
      "66 188.70925903320312\n",
      "67 187.61239624023438\n",
      "68 187.1924285888672\n",
      "69 186.13327026367188\n",
      "70 185.6858673095703\n",
      "71 184.66290283203125\n",
      "72 184.19024658203125\n",
      "73 183.20252990722656\n",
      "74 182.70677185058594\n",
      "75 181.75064086914062\n",
      "76 181.23548889160156\n",
      "77 180.31033325195312\n",
      "78 179.77838134765625\n",
      "79 178.88418579101562\n",
      "80 178.33563232421875\n",
      "81 177.46932983398438\n",
      "82 176.9058837890625\n",
      "83 176.0675048828125\n",
      "84 175.49124145507812\n",
      "85 174.6766815185547\n",
      "86 174.08877563476562\n",
      "87 173.2976531982422\n",
      "88 172.70108032226562\n",
      "89 171.9340057373047\n",
      "90 171.3319091796875\n",
      "91 170.58648681640625\n",
      "92 169.98106384277344\n",
      "93 169.25755310058594\n",
      "94 168.64938354492188\n",
      "95 167.9454345703125\n",
      "96 167.33743286132812\n",
      "97 166.65220642089844\n",
      "98 166.0463104248047\n",
      "99 165.37855529785156\n",
      "100 164.774658203125\n",
      "101 164.12425231933594\n",
      "102 163.5250701904297\n",
      "103 162.8885040283203\n",
      "104 162.2933349609375\n",
      "105 161.6736602783203\n",
      "106 161.0854034423828\n",
      "107 160.4796142578125\n",
      "108 159.8988037109375\n",
      "109 159.30625915527344\n",
      "110 158.73291015625\n",
      "111 158.1519775390625\n",
      "112 157.58694458007812\n",
      "113 157.0185089111328\n",
      "114 156.4630889892578\n",
      "115 155.90646362304688\n",
      "116 155.36074829101562\n",
      "117 154.8158721923828\n",
      "118 154.27890014648438\n",
      "119 153.7431182861328\n",
      "120 153.21417236328125\n",
      "121 152.6876678466797\n",
      "122 152.1667938232422\n",
      "123 151.64903259277344\n",
      "124 151.1363525390625\n",
      "125 150.6261749267578\n",
      "126 150.12062072753906\n",
      "127 149.61849975585938\n",
      "128 149.1201171875\n",
      "129 148.6243438720703\n",
      "130 148.13258361816406\n",
      "131 147.644287109375\n",
      "132 147.15943908691406\n",
      "133 146.67776489257812\n",
      "134 146.19947814941406\n",
      "135 145.72412109375\n",
      "136 145.25234985351562\n",
      "137 144.78317260742188\n",
      "138 144.31654357910156\n",
      "139 143.8522186279297\n",
      "140 143.39068603515625\n",
      "141 142.9317626953125\n",
      "142 142.4761199951172\n",
      "143 142.02273559570312\n",
      "144 141.5717315673828\n",
      "145 141.12350463867188\n",
      "146 140.67880249023438\n",
      "147 140.23690795898438\n",
      "148 139.79730224609375\n",
      "149 139.35983276367188\n",
      "150 138.92422485351562\n",
      "151 138.4912567138672\n",
      "152 138.0606689453125\n",
      "153 137.6324462890625\n",
      "154 137.20689392089844\n",
      "155 136.7841796875\n",
      "156 136.363525390625\n",
      "157 135.94500732421875\n",
      "158 135.52923583984375\n",
      "159 135.11534118652344\n",
      "160 134.70401000976562\n",
      "161 134.29623413085938\n",
      "162 133.89129638671875\n",
      "163 133.48880004882812\n",
      "164 133.08851623535156\n",
      "165 132.6908416748047\n",
      "166 132.29541015625\n",
      "167 131.90216064453125\n",
      "168 131.5108184814453\n",
      "169 131.1219482421875\n",
      "170 130.73536682128906\n",
      "171 130.3511199951172\n",
      "172 129.96914672851562\n",
      "173 129.58909606933594\n",
      "174 129.21104431152344\n",
      "175 128.83468627929688\n",
      "176 128.46063232421875\n",
      "177 128.08837890625\n",
      "178 127.71845245361328\n",
      "179 127.35107421875\n",
      "180 126.98575592041016\n",
      "181 126.6227035522461\n",
      "182 126.26174926757812\n",
      "183 125.90316772460938\n",
      "184 125.54651641845703\n",
      "185 125.19183349609375\n",
      "186 124.83938598632812\n",
      "187 124.48904418945312\n",
      "188 124.14097595214844\n",
      "189 123.79481506347656\n",
      "190 123.4505386352539\n",
      "191 123.10831451416016\n",
      "192 122.767822265625\n",
      "193 122.42929077148438\n",
      "194 122.09246826171875\n",
      "195 121.75761413574219\n",
      "196 121.42466735839844\n",
      "197 121.09371185302734\n",
      "198 120.76465606689453\n",
      "199 120.43739318847656\n",
      "200 120.11166381835938\n",
      "201 119.78760528564453\n",
      "202 119.46548461914062\n",
      "203 119.14530181884766\n",
      "204 118.82716369628906\n",
      "205 118.51072692871094\n",
      "206 118.19600677490234\n",
      "207 117.88334655761719\n",
      "208 117.57220458984375\n",
      "209 117.26270294189453\n",
      "210 116.95478057861328\n",
      "211 116.64845275878906\n",
      "212 116.34405517578125\n",
      "213 116.04112243652344\n",
      "214 115.73992156982422\n",
      "215 115.44039154052734\n",
      "216 115.14260864257812\n",
      "217 114.8465347290039\n",
      "218 114.55231475830078\n",
      "219 114.25973510742188\n",
      "220 113.9688491821289\n",
      "221 113.67967224121094\n",
      "222 113.39226531982422\n",
      "223 113.10624694824219\n",
      "224 112.8213119506836\n",
      "225 112.53790283203125\n",
      "226 112.25611114501953\n",
      "227 111.97595977783203\n",
      "228 111.69758605957031\n",
      "229 111.42080688476562\n",
      "230 111.14556121826172\n",
      "231 110.87158966064453\n",
      "232 110.59908294677734\n",
      "233 110.3280029296875\n",
      "234 110.05825805664062\n",
      "235 109.79000091552734\n",
      "236 109.52315521240234\n",
      "237 109.25768280029297\n",
      "238 108.99374389648438\n",
      "239 108.7310791015625\n",
      "240 108.4698486328125\n",
      "241 108.20977783203125\n",
      "242 107.95104217529297\n",
      "243 107.69378662109375\n",
      "244 107.43781280517578\n",
      "245 107.18319702148438\n",
      "246 106.93016815185547\n",
      "247 106.67848205566406\n",
      "248 106.4280014038086\n",
      "249 106.17881774902344\n",
      "250 105.93116760253906\n",
      "251 105.68474578857422\n",
      "252 105.43970489501953\n",
      "253 105.19596099853516\n",
      "254 104.95365905761719\n",
      "255 104.71244812011719\n",
      "256 104.47261810302734\n",
      "257 104.23406982421875\n",
      "258 103.996826171875\n",
      "259 103.76089477539062\n",
      "260 103.52592468261719\n",
      "261 103.29210662841797\n",
      "262 103.05925750732422\n",
      "263 102.82768249511719\n",
      "264 102.59736633300781\n",
      "265 102.36817932128906\n",
      "266 102.14033508300781\n",
      "267 101.91366577148438\n",
      "268 101.68814086914062\n",
      "269 101.46369171142578\n",
      "270 101.24039459228516\n",
      "271 101.01840209960938\n",
      "272 100.79739379882812\n",
      "273 100.5773696899414\n",
      "274 100.35856628417969\n",
      "275 100.14098358154297\n",
      "276 99.92454528808594\n",
      "277 99.7091064453125\n",
      "278 99.49478912353516\n",
      "279 99.281494140625\n",
      "280 99.06922912597656\n",
      "281 98.85809326171875\n",
      "282 98.64773559570312\n",
      "283 98.4385757446289\n",
      "284 98.23030853271484\n",
      "285 98.02323150634766\n",
      "286 97.81730651855469\n",
      "287 97.61238098144531\n",
      "288 97.40815734863281\n",
      "289 97.2048110961914\n",
      "290 97.00238800048828\n",
      "291 96.80091857910156\n",
      "292 96.60043334960938\n",
      "293 96.40094757080078\n",
      "294 96.20256805419922\n",
      "295 96.00525665283203\n",
      "296 95.80882263183594\n",
      "297 95.61334228515625\n",
      "298 95.41881561279297\n",
      "299 95.2252197265625\n",
      "300 95.03254699707031\n",
      "301 94.84080505371094\n",
      "302 94.64998626708984\n",
      "303 94.46006774902344\n",
      "304 94.27091979980469\n",
      "305 94.0825424194336\n",
      "306 93.89502716064453\n",
      "307 93.70830535888672\n",
      "308 93.52238464355469\n",
      "309 93.33722686767578\n",
      "310 93.15290832519531\n",
      "311 92.96929168701172\n",
      "312 92.7864761352539\n",
      "313 92.6044921875\n",
      "314 92.42340850830078\n",
      "315 92.24324798583984\n",
      "316 92.0639419555664\n",
      "317 91.88548278808594\n",
      "318 91.7078628540039\n",
      "319 91.53106689453125\n",
      "320 91.3551025390625\n",
      "321 91.17999267578125\n",
      "322 91.00570678710938\n",
      "323 90.83244323730469\n",
      "324 90.66006469726562\n",
      "325 90.48853302001953\n",
      "326 90.31764221191406\n",
      "327 90.14773559570312\n",
      "328 89.97859191894531\n",
      "329 89.81005096435547\n",
      "330 89.6422348022461\n",
      "331 89.47508239746094\n",
      "332 89.30863952636719\n",
      "333 89.14280700683594\n",
      "334 88.97769927978516\n",
      "335 88.81327819824219\n",
      "336 88.64952850341797\n",
      "337 88.48658752441406\n",
      "338 88.32434844970703\n",
      "339 88.16265106201172\n",
      "340 88.00164794921875\n",
      "341 87.84147644042969\n",
      "342 87.68193817138672\n",
      "343 87.52301025390625\n",
      "344 87.36473083496094\n",
      "345 87.20710754394531\n",
      "346 87.05035400390625\n",
      "347 86.8942642211914\n",
      "348 86.73863220214844\n",
      "349 86.58370208740234\n",
      "350 86.42960357666016\n",
      "351 86.27608489990234\n",
      "352 86.12318420410156\n",
      "353 85.9710922241211\n",
      "354 85.81965637207031\n",
      "355 85.66883087158203\n",
      "356 85.5185546875\n",
      "357 85.36894989013672\n",
      "358 85.21996307373047\n",
      "359 85.07182312011719\n",
      "360 84.92430114746094\n",
      "361 84.77745056152344\n",
      "362 84.6310806274414\n",
      "363 84.48548889160156\n",
      "364 84.34027099609375\n",
      "365 84.1958236694336\n",
      "366 84.05196380615234\n",
      "367 83.90860748291016\n",
      "368 83.765869140625\n",
      "369 83.62367248535156\n",
      "370 83.48208618164062\n",
      "371 83.34101867675781\n",
      "372 83.20061492919922\n",
      "373 83.06068420410156\n",
      "374 82.92134094238281\n",
      "375 82.7823715209961\n",
      "376 82.6441879272461\n",
      "377 82.5063705444336\n",
      "378 82.36907196044922\n",
      "379 82.2325210571289\n",
      "380 82.09669494628906\n",
      "381 81.96134185791016\n",
      "382 81.82640075683594\n",
      "383 81.69207000732422\n",
      "384 81.55823516845703\n",
      "385 81.42495727539062\n",
      "386 81.29220581054688\n",
      "387 81.15989685058594\n",
      "388 81.02825927734375\n",
      "389 80.89688873291016\n",
      "390 80.76610565185547\n",
      "391 80.63579559326172\n",
      "392 80.50587463378906\n",
      "393 80.37637329101562\n",
      "394 80.24742889404297\n",
      "395 80.1190414428711\n",
      "396 79.99110412597656\n",
      "397 79.86355590820312\n",
      "398 79.736328125\n",
      "399 79.60971069335938\n",
      "400 79.4834213256836\n",
      "401 79.35775756835938\n",
      "402 79.23242950439453\n",
      "403 79.10748291015625\n",
      "404 78.98320007324219\n",
      "405 78.85920715332031\n",
      "406 78.73576354980469\n",
      "407 78.61276245117188\n",
      "408 78.49015045166016\n",
      "409 78.3679428100586\n",
      "410 78.2462387084961\n",
      "411 78.12510681152344\n",
      "412 78.00418090820312\n",
      "413 77.88388061523438\n",
      "414 77.76388549804688\n",
      "415 77.64450073242188\n",
      "416 77.52545166015625\n",
      "417 77.40675354003906\n",
      "418 77.28863525390625\n",
      "419 77.17069244384766\n",
      "420 77.05326843261719\n",
      "421 76.93617248535156\n",
      "422 76.81951904296875\n",
      "423 76.70317840576172\n",
      "424 76.58716583251953\n",
      "425 76.4717025756836\n",
      "426 76.35633087158203\n",
      "427 76.24144744873047\n",
      "428 76.12677001953125\n",
      "429 76.01268005371094\n",
      "430 75.89896392822266\n",
      "431 75.78535461425781\n",
      "432 75.67239379882812\n",
      "433 75.55967712402344\n",
      "434 75.4473876953125\n",
      "435 75.33538818359375\n",
      "436 75.2236099243164\n",
      "437 75.11238098144531\n",
      "438 75.00127410888672\n",
      "439 74.890869140625\n",
      "440 74.7809066772461\n",
      "441 74.67130279541016\n",
      "442 74.56204223632812\n",
      "443 74.45321655273438\n",
      "444 74.34463500976562\n",
      "445 74.2364501953125\n",
      "446 74.12857818603516\n",
      "447 74.02113342285156\n",
      "448 73.91385650634766\n",
      "449 73.80705261230469\n",
      "450 73.70065307617188\n",
      "451 73.59445190429688\n",
      "452 73.48885345458984\n",
      "453 73.38327026367188\n",
      "454 73.27816009521484\n",
      "455 73.1734390258789\n",
      "456 73.06890106201172\n",
      "457 72.96472930908203\n",
      "458 72.86100769042969\n",
      "459 72.75757598876953\n",
      "460 72.65428161621094\n",
      "461 72.55158996582031\n",
      "462 72.44891357421875\n",
      "463 72.34678649902344\n",
      "464 72.244873046875\n",
      "465 72.1430892944336\n",
      "466 72.04180145263672\n",
      "467 71.94065856933594\n",
      "468 71.83992004394531\n",
      "469 71.73931884765625\n",
      "470 71.63906860351562\n",
      "471 71.53907775878906\n",
      "472 71.43926239013672\n",
      "473 71.33982849121094\n",
      "474 71.24076080322266\n",
      "475 71.14177703857422\n",
      "476 71.04322814941406\n",
      "477 70.94503021240234\n",
      "478 70.84716033935547\n",
      "479 70.74961853027344\n",
      "480 70.65226745605469\n",
      "481 70.5550765991211\n",
      "482 70.4582748413086\n",
      "483 70.3617172241211\n",
      "484 70.26541900634766\n",
      "485 70.16961669921875\n",
      "486 70.07383728027344\n",
      "487 69.9786148071289\n",
      "488 69.8834228515625\n",
      "489 69.78881072998047\n",
      "490 69.69439697265625\n",
      "491 69.60017395019531\n",
      "492 69.50650787353516\n",
      "493 69.41273498535156\n",
      "494 69.31961822509766\n",
      "495 69.22645568847656\n",
      "496 69.1337890625\n",
      "497 69.04121398925781\n",
      "498 68.94891357421875\n",
      "499 68.85680389404297\n"
     ]
    }
   ],
   "source": [
    "# пример взят из официального туториала: \n",
    "# https://pytorch.org/tutorials/beginner/pytorch_with_examples.html\n",
    "\n",
    "# N - размер батча (batch_size, нужно для метода оптимизации); \n",
    "# D_in - размерность входа (количество признаков у объекта);\n",
    "# H - размерность скрытых слоёв; \n",
    "# D_out - размерность выходного слоя (суть - количество классов)\n",
    "N, D_in, H, D_out = 64, 2, 300, 3\n",
    "\n",
    "# Use the nn package to define our model and loss function.\n",
    "two_layer_net = torch.nn.Sequential(\n",
    "    torch.nn.Linear(D_in, H),\n",
    "    torch.nn.ReLU(),\n",
    "    torch.nn.Linear(H, D_out),\n",
    ")\n",
    "\n",
    "loss_fn = torch.nn.CrossEntropyLoss(size_average=False)\n",
    "\n",
    "learning_rate = 1e-3\n",
    "optimizer = torch.optim.SGD(two_layer_net.parameters(), lr=learning_rate)\n",
    "for t in range(500):\n",
    "    # forward\n",
    "    y_pred = two_layer_net(X)\n",
    "\n",
    "    # loss\n",
    "    loss = loss_fn(y_pred, y)\n",
    "    print('{} {}'.format(t, loss.data))\n",
    "\n",
    "    # ЗАНУЛЯЕМ!\n",
    "    optimizer.zero_grad()\n",
    "\n",
    "    # backward\n",
    "    loss.backward()\n",
    "\n",
    "    # ОБНОВЛЯЕМ! \n",
    "    optimizer.step()"
   ]
  },
  {
   "cell_type": "markdown",
   "metadata": {
    "colab_type": "text",
    "id": "zTQiN0bcYJd6"
   },
   "source": [
    "**Обратите внимание:** несмотря на то, что это задача 3-х классовой классификации и столбец $y$ нужно по-хорошему кодировать OneHotEncoding'ом, мы подали просто столбец из 0, 1 и 2 и всё отработало. Вывод - PyTorch сам делает OneHot в таком случае."
   ]
  },
  {
   "cell_type": "markdown",
   "metadata": {
    "colab_type": "text",
    "id": "apsWWq17YJd8"
   },
   "source": [
    "Проверим, насколько хороша наша сеть из 100 нейронов:"
   ]
  },
  {
   "cell_type": "code",
   "execution_count": 6,
   "metadata": {
    "colab": {},
    "colab_type": "code",
    "id": "X0ICB6Z-YJd-"
   },
   "outputs": [],
   "source": [
    "# Обратно в Numpy для отрисовки\n",
    "X = X.data.numpy()\n",
    "y = y.data.numpy()"
   ]
  },
  {
   "cell_type": "code",
   "execution_count": 7,
   "metadata": {
    "colab": {},
    "colab_type": "code",
    "id": "JvjfvgbPYJeB",
    "outputId": "cf5545ff-3315-45c9-c674-af44f63a346b"
   },
   "outputs": [
    {
     "data": {
      "image/png": "[encoded data removed]",
      "text/plain": [
       "<Figure size 720x576 with 1 Axes>"
      ]
     },
     "metadata": {
      "needs_background": "light"
     },
     "output_type": "display_data"
    }
   ],
   "source": [
    "# Отрисовочная магия, снова взято из:\n",
    "# http://cs231n.github.io/neural-networks-case-study/#linear\n",
    "\n",
    "h = 0.02\n",
    "x_min, x_max = X[:, 0].min() - 1, X[:, 0].max() + 1\n",
    "y_min, y_max = X[:, 1].min() - 1, X[:, 1].max() + 1\n",
    "\n",
    "xx, yy = np.meshgrid(np.arange(x_min, x_max, h),\n",
    "                     np.arange(y_min, y_max, h))\n",
    "grid_tensor = torch.FloatTensor(np.c_[xx.ravel(), yy.ravel()])\n",
    "\n",
    "Z = two_layer_net(torch.autograd.Variable(grid_tensor))\n",
    "Z = Z.data.numpy()\n",
    "Z = np.argmax(Z, axis=1)\n",
    "Z = Z.reshape(xx.shape)\n",
    "\n",
    "plt.figure(figsize=(10, 8))\n",
    "\n",
    "plt.contourf(xx, yy, Z, cmap=plt.cm.rainbow, alpha=0.3)\n",
    "plt.scatter(X[:, 0], X[:, 1], c=y, s=40, cmap=plt.cm.rainbow)\n",
    "\n",
    "plt.xlim(xx.min(), xx.max())\n",
    "plt.ylim(yy.min(), yy.max())\n",
    "\n",
    "plt.title('Игрушка дьявола', fontsize=15)\n",
    "plt.xlabel('$x$', fontsize=14)\n",
    "plt.ylabel('$y$', fontsize=14)\n",
    "plt.show();"
   ]
  },
  {
   "cell_type": "markdown",
   "metadata": {
    "colab_type": "text",
    "id": "I-LuUcmNYJeE"
   },
   "source": [
    "Качество не очень. Как же так, ведь мы использовали 100 нейронов? Разве их мало?"
   ]
  },
  {
   "cell_type": "markdown",
   "metadata": {
    "colab_type": "text",
    "id": "CUh5va_PYJeF"
   },
   "source": [
    "---"
   ]
  },
  {
   "cell_type": "markdown",
   "metadata": {
    "colab_type": "text",
    "id": "34q5qIBvYJeG"
   },
   "source": [
    "### Задача 2"
   ]
  },
  {
   "cell_type": "markdown",
   "metadata": {
    "colab_type": "text",
    "id": "G2wNgoh5YJeG"
   },
   "source": [
    "Улучшите сеть (помните про вещи, которые можно менять (см. Компоненты нейросети)). Экспериментируйте, в этом **вся суть deep learning** (и в том, чтобы рано или поздно сетка научилась экспериментировать за Вас :)"
   ]
  },
  {
   "cell_type": "code",
   "execution_count": 0,
   "metadata": {
    "colab": {},
    "colab_type": "code",
    "collapsed": true,
    "id": "ZYzvOiPgYJeH"
   },
   "outputs": [],
   "source": [
    "тупо 1e-3 "
   ]
  },
  {
   "cell_type": "markdown",
   "metadata": {
    "colab_type": "text",
    "id": "6N_9wfvPYJeK"
   },
   "source": [
    "---"
   ]
  },
  {
   "cell_type": "markdown",
   "metadata": {
    "colab_type": "text",
    "id": "H_thmQJOYJeK"
   },
   "source": [
    "<h3 style=\"text-align: center;\"><b>Полезные ссылки</b></h3>"
   ]
  },
  {
   "cell_type": "markdown",
   "metadata": {
    "colab_type": "text",
    "id": "RpSrLf9FYJeL"
   },
   "source": [
    "1). *Примеры написания нейросетей на PyTorch (офийиальные туториалы) (на английском): https://pytorch.org/tutorials/beginner/pytorch_with_examples.html#examples  \n",
    "https://pytorch.org/tutorials/beginner/blitz/cifar10_tutorial.html*\n",
    "\n",
    "2). ***Один из самых подробных и полных курсов по deep learning на данный момент - это курс Стэнфордского Университета (он вообще сейчас один из лидеров в области ИИ, его выпускники работают в Google, Facebook, Amazon, Microsoft, в стартапах в Кремниевой долине):  http://cs231n.github.io/***  \n",
    "\n",
    "3). Практически исчерпывающая информация по основам нейросетей (из cs231n) (на английском):  \n",
    "\n",
    "http://cs231n.github.io/neural-networks-1/,  \n",
    "http://cs231n.github.io/neural-networks-2/,  \n",
    "http://cs231n.github.io/neural-networks-3/,  \n",
    "http://cs231n.github.io/neural-networks-case-study/#linear\n",
    "\n",
    "4). *Хорошие статьи по основам нейросетей (на английском):  http://neuralnetworksanddeeplearning.com/chap1.html*\n",
    "\n",
    "5). *Наглядная демонстрация того, как обучаются нейросети:  https://cs.stanford.edu/people/karpathy/convnetjs/*"
   ]
  },
  {
   "cell_type": "markdown",
   "metadata": {
    "colab_type": "text",
    "id": "1Qldb1U5YJeM"
   },
   "source": [
    "6). *Подробнее про backprop -- статья на Medium: https://medium.com/autonomous-agents/backpropagation-how-neural-networks-learn-complex-behaviors-9572ac161670*"
   ]
  },
  {
   "cell_type": "markdown",
   "metadata": {
    "colab_type": "text",
    "id": "g1HSslRhYJeN"
   },
   "source": [
    "7). *Статья из интернет по Backprop: http://page.mi.fu-berlin.de/rojas/neural/chapter/K7.pdf*"
   ]
  }
 ],
 "metadata": {
  "colab": {
   "name": "[seminar]mlp_pytorch.ipynb",
   "provenance": [],
   "version": "0.3.2"
  },
  "hide_input": false,
  "kernelspec": {
   "display_name": "Python 3",
   "language": "python",
   "name": "python3"
  },
  "language_info": {
   "codemirror_mode": {
    "name": "ipython",
    "version": 3
   },
   "file_extension": ".py",
   "mimetype": "text/x-python",
   "name": "python",
   "nbconvert_exporter": "python",
   "pygments_lexer": "ipython3",
   "version": "3.6.8"
  },
  "varInspector": {
   "cols": {
    "lenName": 16,
    "lenType": 16,
    "lenVar": 40
   },
   "kernels_config": {
    "python": {
     "delete_cmd_postfix": "",
     "delete_cmd_prefix": "del ",
     "library": "var_list.py",
     "varRefreshCmd": "print(var_dic_list())"
    },
    "r": {
     "delete_cmd_postfix": ") ",
     "delete_cmd_prefix": "rm(",
     "library": "var_list.r",
     "varRefreshCmd": "cat(var_dic_list()) "
    }
   },
   "types_to_exclude": [
    "module",
    "function",
    "builtin_function_or_method",
    "instance",
    "_Feature"
   ],
   "window_display": false
  }
 },
 "nbformat": 4,
 "nbformat_minor": 1
}
