{
 "cells": [
  {
   "cell_type": "markdown",
   "metadata": {},
   "source": [
    "<img src=\"https://s8.hostingkartinok.com/uploads/images/2018/08/308b49fcfbc619d629fe4604bceb67ac.jpg\" width=500, height=450>\n",
    "<h3 style=\"text-align: center;\"><b>Физтех-Школа Прикладной математики и информатики (ФПМИ) МФТИ</b></h3>"
   ]
  },
  {
   "cell_type": "markdown",
   "metadata": {},
   "source": [
    "---"
   ]
  },
  {
   "cell_type": "markdown",
   "metadata": {},
   "source": [
    "<h2 style=\"text-align: center;\"><b>Семинар 1: практическое занятие по обучению нейросетей (датасет CIFAR10)</b></h2>"
   ]
  },
  {
   "cell_type": "markdown",
   "metadata": {},
   "source": [
    "---"
   ]
  },
  {
   "cell_type": "code",
   "execution_count": 15,
   "metadata": {
    "colab": {},
    "colab_type": "code",
    "id": "Hgit3qqOf4hd"
   },
   "outputs": [],
   "source": [
    "import numpy as np\n",
    "import matplotlib.pyplot as plt\n",
    "\n",
    "from tqdm import tqdm_notebook\n",
    "\n",
    "import warnings\n",
    "warnings.filterwarnings(\"ignore\")\n",
    "\n",
    "import multiprocessing"
   ]
  },
  {
   "cell_type": "markdown",
   "metadata": {
    "colab_type": "text",
    "id": "CHUKPJJOf4hj"
   },
   "source": [
    "Сегодня мы построим свою сеть (простейший классификатор изображений), посчитаем loss и проведем обновление весов.\n",
    "\n",
    "\n",
    "Данные\n",
    "----------------\n",
    "Мы будем работать с набором картинок. Для работы с ними есть специальный пакет ``torchvision``. В нем уже содержатся функции-загрузчики таких датасетов, как ImageNet, MNIST, CIFAR10. С последним сегодня мы и будем работать. В нем содержатся картинки RGB 32х32 следующих классов: \n",
    "1. ‘airplane’\n",
    "2. ‘automobile’\n",
    "3. ‘bird’\n",
    "4. ‘cat’\n",
    "5. ‘deer’\n",
    "6. ‘dog’\n",
    "7. ‘frog’\n",
    "8. ‘horse’\n",
    "9. ‘ship’\n",
    "10. ‘truck’\n",
    "\n",
    "Обучение классификатора\n",
    "----------------------------\n",
    "\n",
    "План обучения классификатора:\n",
    "\n",
    "1. Загружаем и нормализуем данные при помощи пакета\n",
    "   ``torchvision``\n",
    "2. Объявляем нейронную сети\n",
    "3. Объявляем функцию потерь\n",
    "4. Тренируем сеть при помощи тренировочной выборки (train data)\n",
    "5. Тестируем сеть при помощи валидационной выборки (test data)\n",
    "\n",
    "----------------------------\n",
    "\n",
    "Импортируем нужные нам пакеты из библиотеки ``torch``\n",
    "\n",
    "\n"
   ]
  },
  {
   "cell_type": "code",
   "execution_count": 16,
   "metadata": {
    "colab": {},
    "colab_type": "code",
    "id": "E6h4kZ-if4hl"
   },
   "outputs": [],
   "source": [
    "import torch\n",
    "import torchvision\n",
    "from torch.autograd import Variable\n",
    "import torchvision.transforms as transforms"
   ]
  },
  {
   "cell_type": "code",
   "execution_count": 17,
   "metadata": {
    "colab": {},
    "colab_type": "code",
    "id": "5KmxZQREgApi"
   },
   "outputs": [
    {
     "ename": "IndexError",
     "evalue": "list index out of range",
     "output_type": "error",
     "traceback": [
      "\u001b[0;31m---------------------------------------------------------------------------\u001b[0m",
      "\u001b[0;31mIndexError\u001b[0m                                Traceback (most recent call last)",
      "\u001b[0;32m<ipython-input-17-b1589bd95a78>\u001b[0m in \u001b[0;36m<module>\u001b[0;34m\u001b[0m\n\u001b[1;32m      4\u001b[0m \u001b[0mplatform\u001b[0m \u001b[0;34m=\u001b[0m \u001b[0;34m'{}{}-{}'\u001b[0m\u001b[0;34m.\u001b[0m\u001b[0mformat\u001b[0m\u001b[0;34m(\u001b[0m\u001b[0mget_abbr_impl\u001b[0m\u001b[0;34m(\u001b[0m\u001b[0;34m)\u001b[0m\u001b[0;34m,\u001b[0m \u001b[0mget_impl_ver\u001b[0m\u001b[0;34m(\u001b[0m\u001b[0;34m)\u001b[0m\u001b[0;34m,\u001b[0m \u001b[0mget_abi_tag\u001b[0m\u001b[0;34m(\u001b[0m\u001b[0;34m)\u001b[0m\u001b[0;34m)\u001b[0m\u001b[0;34m\u001b[0m\u001b[0;34m\u001b[0m\u001b[0m\n\u001b[1;32m      5\u001b[0m \u001b[0mcuda_output\u001b[0m \u001b[0;34m=\u001b[0m \u001b[0mget_ipython\u001b[0m\u001b[0;34m(\u001b[0m\u001b[0;34m)\u001b[0m\u001b[0;34m.\u001b[0m\u001b[0mgetoutput\u001b[0m\u001b[0;34m(\u001b[0m\u001b[0;34m\"ldconfig -p|grep cudart.so|sed -e 's/.*\\\\.\\\\([0-9]*\\\\)\\\\.\\\\([0-9]*\\\\)$/cu\\\\1\\\\2/'\"\u001b[0m\u001b[0;34m)\u001b[0m\u001b[0;34m\u001b[0m\u001b[0;34m\u001b[0m\u001b[0m\n\u001b[0;32m----> 6\u001b[0;31m \u001b[0maccelerator\u001b[0m \u001b[0;34m=\u001b[0m \u001b[0mcuda_output\u001b[0m\u001b[0;34m[\u001b[0m\u001b[0;36m0\u001b[0m\u001b[0;34m]\u001b[0m \u001b[0;32mif\u001b[0m \u001b[0mexists\u001b[0m\u001b[0;34m(\u001b[0m\u001b[0;34m'/dev/nvidia0'\u001b[0m\u001b[0;34m)\u001b[0m \u001b[0;32melse\u001b[0m \u001b[0;34m'cpu'\u001b[0m\u001b[0;34m\u001b[0m\u001b[0;34m\u001b[0m\u001b[0m\n\u001b[0m\u001b[1;32m      7\u001b[0m \u001b[0;34m\u001b[0m\u001b[0m\n\u001b[1;32m      8\u001b[0m \u001b[0mget_ipython\u001b[0m\u001b[0;34m(\u001b[0m\u001b[0;34m)\u001b[0m\u001b[0;34m.\u001b[0m\u001b[0msystem\u001b[0m\u001b[0;34m(\u001b[0m\u001b[0;34m'pip install -q http://download.pytorch.org/whl/{accelerator}/torch-0.4.1-{platform}-linux_x86_64.whl torchvision'\u001b[0m\u001b[0;34m)\u001b[0m\u001b[0;34m\u001b[0m\u001b[0;34m\u001b[0m\u001b[0m\n",
      "\u001b[0;31mIndexError\u001b[0m: list index out of range"
     ]
    }
   ],
   "source": [
    "# http://pytorch.org/\n",
    "from os.path import exists\n",
    "from wheel.pep425tags import get_abbr_impl, get_impl_ver, get_abi_tag\n",
    "platform = '{}{}-{}'.format(get_abbr_impl(), get_impl_ver(), get_abi_tag())\n",
    "cuda_output = !ldconfig -p|grep cudart.so|sed -e 's/.*\\.\\([0-9]*\\)\\.\\([0-9]*\\)$/cu\\1\\2/'\n",
    "accelerator = cuda_output[0] if exists('/dev/nvidia0') else 'cpu'\n",
    "\n",
    "!pip install -q http://download.pytorch.org/whl/{accelerator}/torch-0.4.1-{platform}-linux_x86_64.whl torchvision\n",
    "import torch"
   ]
  },
  {
   "cell_type": "markdown",
   "metadata": {
    "colab_type": "text",
    "id": "aHKBkoJPf4hp"
   },
   "source": [
    "В результате загрузки датасетов при помощи пакета torchvision мы получим картинки, содержащие значения в диапазоне [0,1], чтобы подавать их в нейросеть, нам нужно сделать из них тензоры со значениями в диапазоне [-1,1]\n",
    "\n",
    "Определим презобразование:"
   ]
  },
  {
   "cell_type": "code",
   "execution_count": null,
   "metadata": {},
   "outputs": [],
   "source": []
  },
  {
   "cell_type": "code",
   "execution_count": 18,
   "metadata": {
    "colab": {},
    "colab_type": "code",
    "id": "GJeKQk9nf4hq"
   },
   "outputs": [],
   "source": [
    "transform = transforms.Compose(\n",
    "    \n",
    "[\n",
    "    transforms.ToTensor(),\n",
    "    transforms.Normalize((0.5, 0.5, 0.5), (0.5, 0.5, 0.5))\n",
    "]\n",
    "\n",
    ")"
   ]
  },
  {
   "cell_type": "markdown",
   "metadata": {
    "colab_type": "text",
    "id": "hNOgh6Obf4hx"
   },
   "source": [
    "Теперь вызовем загрузчики из пакета ``torchvision`` и скачаем обучающую выборку (trainset) и валидационную (testset)\n",
    "\n"
   ]
  },
  {
   "cell_type": "code",
   "execution_count": 19,
   "metadata": {
    "colab": {
     "base_uri": "https://localhost:8080/",
     "height": 114
    },
    "colab_type": "code",
    "executionInfo": {
     "elapsed": 9179,
     "status": "ok",
     "timestamp": 1541256926486,
     "user": {
      "displayName": "Deep Learning School",
      "photoUrl": "https://lh6.googleusercontent.com/-pCAqm81DR_s/AAAAAAAAAAI/AAAAAAAAAMk/4cGT0s91JQs/s64/photo.jpg",
      "userId": "16549096980415837553"
     },
     "user_tz": -180
    },
    "id": "Vvub5ZZdf4hz",
    "outputId": "1d34691b-8365-4e8d-b781-1fdb4d9750f0",
    "scrolled": false
   },
   "outputs": [
    {
     "name": "stdout",
     "output_type": "stream",
     "text": [
      "Files already downloaded and verified\n",
      "Files already downloaded and verified\n"
     ]
    }
   ],
   "source": [
    "trainset = torchvision.datasets.CIFAR10(root='./data', \n",
    "                                        train=True,download=True, transform=transform)\n",
    "train_loader = torch.utils.data.DataLoader(trainset, batch_size=4,\n",
    "                                           shuffle=True, num_workers=0, pin_memory=False)\n",
    "\n",
    "testset = torchvision.datasets.CIFAR10(root='./data', train=False, \n",
    "                                       download=True, transform=transform)\n",
    "validation_loader = torch.utils.data.DataLoader(testset, batch_size=4,\n",
    "                                                shuffle=False, num_workers=0, pin_memory=False)"
   ]
  },
  {
   "cell_type": "markdown",
   "metadata": {
    "colab_type": "text",
    "id": "DsFyaka7f4h5"
   },
   "source": [
    "Определим константы"
   ]
  },
  {
   "cell_type": "code",
   "execution_count": 20,
   "metadata": {
    "colab": {},
    "colab_type": "code",
    "id": "UnfKGICOf4h6"
   },
   "outputs": [
    {
     "name": "stdout",
     "output_type": "stream",
     "text": [
      "CPU times: user 13 µs, sys: 2 µs, total: 15 µs\n",
      "Wall time: 25 µs\n"
     ]
    }
   ],
   "source": [
    "%%time\n",
    "IMAGE_WIDTH = 32\n",
    "IMAGE_HEIGHT = 32\n",
    "COLOR_CHANNELS = 3\n",
    "EPOCHS = 50\n",
    "LEARNING_RATE = 0.001\n",
    "BATCH_SIZE = 32\n",
    "BATCH_IMAGE_COUNT = 10000\n",
    "CLASSES = ['plane', 'car', 'bird', 'cat', 'deer', 'dog', 'frog', 'horse', 'ship', 'truck']\n",
    "N_CLASSES = len(CLASSES)\n",
    "PLOT = False"
   ]
  },
  {
   "cell_type": "code",
   "execution_count": 21,
   "metadata": {
    "colab": {
     "base_uri": "https://localhost:8080/",
     "height": 204
    },
    "colab_type": "code",
    "executionInfo": {
     "elapsed": 1080,
     "status": "ok",
     "timestamp": 1541259191860,
     "user": {
      "displayName": "Deep Learning School",
      "photoUrl": "https://lh6.googleusercontent.com/-pCAqm81DR_s/AAAAAAAAAAI/AAAAAAAAAMk/4cGT0s91JQs/s64/photo.jpg",
      "userId": "16549096980415837553"
     },
     "user_tz": -180
    },
    "id": "mNWymneYf4h-",
    "outputId": "80c3943a-b7af-46ea-f7ab-23c5c5c6c660"
   },
   "outputs": [
    {
     "name": "stdout",
     "output_type": "stream",
     "text": [
      "  car  ship   car   dog\n",
      "CPU times: user 13.2 ms, sys: 7.6 ms, total: 20.8 ms\n",
      "Wall time: 28 ms\n"
     ]
    },
    {
     "data": {
      "image/png": "[encoded data removed]",
      "text/plain": [
       "<Figure size 432x288 with 1 Axes>"
      ]
     },
     "metadata": {
      "needs_background": "light"
     },
     "output_type": "display_data"
    }
   ],
   "source": [
    "%%time\n",
    "import matplotlib.pyplot as plt\n",
    "import numpy as np\n",
    "\n",
    "# Функция, которая показывает изображения\n",
    "def imshow(img):\n",
    "    img = img / 2 + 0.5     # деномрировка\n",
    "    npimg = img.numpy()\n",
    "    plt.imshow(np.transpose(npimg, (1, 2, 0)))\n",
    "\n",
    "\n",
    "# достаем случайные картинки из обучающей выборки\n",
    "dataiter = iter(train_loader)\n",
    "images, labels = dataiter.next()\n",
    "\n",
    "# вызываем функцию, реализующую демонстрацию изображений, что мы можем видеть на них?\n",
    "imshow(torchvision.utils.make_grid(images))\n",
    "# выведем метки классов отрисованных изображений\n",
    "print(' '.join('%5s' % CLASSES[labels[j]] for j in range(4)))"
   ]
  },
  {
   "cell_type": "code",
   "execution_count": 22,
   "metadata": {
    "colab": {},
    "colab_type": "code",
    "id": "wysy5qO2f4iC"
   },
   "outputs": [],
   "source": [
    "class Net(torch.nn.Module):\n",
    "    def __init__(self, n_hidden_nodes, n_hidden_layers):\n",
    "        super(Net, self).__init__()\n",
    "        # Определяем слои\n",
    "        self.fc1 = torch.nn.Linear(IMAGE_WIDTH * IMAGE_WIDTH * COLOR_CHANNELS,\n",
    "                                   n_hidden_nodes)\n",
    "#         self.n_hidden_nodes=n_hidden_nodes\n",
    "#         self.n_hidden_layers=n_hidden_layers\n",
    "\n",
    "        self.out = torch.nn.Linear(n_hidden_nodes, N_CLASSES)\n",
    "\n",
    "    def forward(self, x):\n",
    "        x = x.view(-1, IMAGE_WIDTH * IMAGE_WIDTH * COLOR_CHANNELS)\n",
    "        # определяем функцию активации\n",
    "        sigmoid = torch.nn.Sigmoid()\n",
    "        x = sigmoid(self.fc1(x))\n",
    "        return torch.nn.functional.log_softmax(self.out(x))"
   ]
  },
  {
   "cell_type": "code",
   "execution_count": 31,
   "metadata": {
    "colab": {},
    "colab_type": "code",
    "id": "sdi5bYJaf4iF"
   },
   "outputs": [],
   "source": [
    "def train(epoch, model, train_loader, optimizer, log_interval=100, cuda=None):\n",
    "    model.train()\n",
    "    correct = 0\n",
    "    for batch_idx, (data, target) in enumerate(train_loader):\n",
    "        data, target = Variable(data), Variable(target)\n",
    "        optimizer.zero_grad()\n",
    "        output = model(data)\n",
    "\n",
    "        pred = output.data.max(1)[1] # get the index of the max log-probability\n",
    "        correct += pred.eq(target.data).cpu().sum()\n",
    "        accuracy = 100. * correct / len(train_loader.dataset)\n",
    "        \n",
    "        \n",
    "        loss = torch.nn.functional.nll_loss(output, target)\n",
    "        loss.backward()\n",
    "        optimizer.step()\n",
    "        if batch_idx % 2500 == 0:\n",
    "            print('Train Epoch: {} [{}/{} ({:.0f}%)]\\tLoss: {:.6f}'.format(\n",
    "                epoch, batch_idx * len(data), len(train_loader.dataset),\n",
    "                100. * batch_idx / len(train_loader), loss.data, accuracy))\n"
   ]
  },
  {
   "cell_type": "code",
   "execution_count": 32,
   "metadata": {
    "colab": {},
    "colab_type": "code",
    "id": "_MB7us3sf4iI"
   },
   "outputs": [],
   "source": [
    "def validate(loss_vector, accuracy_vector, model, validation_loader, cuda=None):\n",
    "    model.eval()\n",
    "    val_loss, correct = 0, 0\n",
    "    for data, target in validation_loader:\n",
    "        if cuda:\n",
    "            data, target = data.cuda(), target.cuda()\n",
    "        data, target = Variable(data, volatile=True), Variable(target)\n",
    "        output = model(data)\n",
    "        val_loss += torch.nn.functional.nll_loss(output, target).data\n",
    "        pred = output.data.max(1)[1] # get the index of the max log-probability\n",
    "        correct += pred.eq(target.data).cpu().sum()\n",
    "\n",
    "    val_loss /= len(validation_loader)\n",
    "    loss_vector.append(val_loss)\n",
    "\n",
    "    accuracy = 100. * correct / len(validation_loader.dataset)\n",
    "    accuracy_vector.append(accuracy)\n",
    "\n",
    "    print('\\nValidation set: Average loss: {:.4f}, Accuracy: {}/{} ({:.0f}%)\\n'.format(\n",
    "        val_loss, correct, len(validation_loader.dataset), accuracy))"
   ]
  },
  {
   "cell_type": "code",
   "execution_count": 33,
   "metadata": {
    "colab": {},
    "colab_type": "code",
    "id": "5Ta4nX1Uf4iK"
   },
   "outputs": [],
   "source": [
    "from tqdm import tqdm_notebook"
   ]
  },
  {
   "cell_type": "code",
   "execution_count": 34,
   "metadata": {
    "colab": {
     "base_uri": "https://localhost:8080/",
     "height": 3417
    },
    "colab_type": "code",
    "id": "HcykLY4af4iM",
    "outputId": "9fc038b6-d1bc-4050-b6da-06f01613190c"
   },
   "outputs": [
    {
     "name": "stdout",
     "output_type": "stream",
     "text": [
      "Train Epoch: 1 [0/50000 (0%)]\tLoss: 2.182344\n",
      "Train Epoch: 1 [10000/50000 (20%)]\tLoss: 2.443454\n",
      "Train Epoch: 1 [20000/50000 (40%)]\tLoss: 2.205518\n",
      "Train Epoch: 1 [30000/50000 (60%)]\tLoss: 2.255823\n",
      "Train Epoch: 1 [40000/50000 (80%)]\tLoss: 2.172407\n",
      "\n",
      "Validation set: Average loss: 2.0845, Accuracy: 2918/10000 (29%)\n",
      "\n",
      "Train Epoch: 2 [0/50000 (0%)]\tLoss: 2.046528\n",
      "Train Epoch: 2 [10000/50000 (20%)]\tLoss: 2.319453\n",
      "Train Epoch: 2 [20000/50000 (40%)]\tLoss: 1.713626\n",
      "Train Epoch: 2 [30000/50000 (60%)]\tLoss: 1.522187\n",
      "Train Epoch: 2 [40000/50000 (80%)]\tLoss: 2.107126\n",
      "\n",
      "Validation set: Average loss: 1.9801, Accuracy: 3170/10000 (31%)\n",
      "\n",
      "Train Epoch: 3 [0/50000 (0%)]\tLoss: 1.914939\n",
      "Train Epoch: 3 [10000/50000 (20%)]\tLoss: 2.057887\n",
      "Train Epoch: 3 [20000/50000 (40%)]\tLoss: 1.680432\n",
      "Train Epoch: 3 [30000/50000 (60%)]\tLoss: 2.009135\n",
      "Train Epoch: 3 [40000/50000 (80%)]\tLoss: 1.842846\n",
      "\n",
      "Validation set: Average loss: 1.9222, Accuracy: 3331/10000 (33%)\n",
      "\n",
      "Train Epoch: 4 [0/50000 (0%)]\tLoss: 1.905389\n",
      "Train Epoch: 4 [10000/50000 (20%)]\tLoss: 1.622746\n",
      "Train Epoch: 4 [20000/50000 (40%)]\tLoss: 2.431763\n",
      "Train Epoch: 4 [30000/50000 (60%)]\tLoss: 1.860036\n",
      "Train Epoch: 4 [40000/50000 (80%)]\tLoss: 1.667528\n",
      "\n",
      "Validation set: Average loss: 1.8819, Accuracy: 3475/10000 (34%)\n",
      "\n",
      "Train Epoch: 5 [0/50000 (0%)]\tLoss: 1.861926\n",
      "Train Epoch: 5 [10000/50000 (20%)]\tLoss: 1.934137\n",
      "Train Epoch: 5 [20000/50000 (40%)]\tLoss: 1.667898\n",
      "Train Epoch: 5 [30000/50000 (60%)]\tLoss: 1.453532\n",
      "Train Epoch: 5 [40000/50000 (80%)]\tLoss: 2.181441\n",
      "\n",
      "Validation set: Average loss: 1.8498, Accuracy: 3548/10000 (35%)\n",
      "\n",
      "Train Epoch: 6 [0/50000 (0%)]\tLoss: 2.194475\n",
      "Train Epoch: 6 [10000/50000 (20%)]\tLoss: 2.052732\n",
      "Train Epoch: 6 [20000/50000 (40%)]\tLoss: 1.916439\n",
      "Train Epoch: 6 [30000/50000 (60%)]\tLoss: 1.668328\n",
      "Train Epoch: 6 [40000/50000 (80%)]\tLoss: 2.486410\n",
      "\n",
      "Validation set: Average loss: 1.8255, Accuracy: 3623/10000 (36%)\n",
      "\n",
      "Train Epoch: 7 [0/50000 (0%)]\tLoss: 1.709942\n",
      "Train Epoch: 7 [10000/50000 (20%)]\tLoss: 2.025219\n",
      "Train Epoch: 7 [20000/50000 (40%)]\tLoss: 1.409796\n",
      "Train Epoch: 7 [30000/50000 (60%)]\tLoss: 2.401537\n",
      "Train Epoch: 7 [40000/50000 (80%)]\tLoss: 2.687014\n",
      "\n",
      "Validation set: Average loss: 1.8065, Accuracy: 3697/10000 (36%)\n",
      "\n",
      "Train Epoch: 8 [0/50000 (0%)]\tLoss: 1.540182\n",
      "Train Epoch: 8 [10000/50000 (20%)]\tLoss: 1.456064\n",
      "Train Epoch: 8 [20000/50000 (40%)]\tLoss: 2.047035\n",
      "Train Epoch: 8 [30000/50000 (60%)]\tLoss: 1.603916\n",
      "Train Epoch: 8 [40000/50000 (80%)]\tLoss: 2.007400\n",
      "\n",
      "Validation set: Average loss: 1.7908, Accuracy: 3707/10000 (37%)\n",
      "\n",
      "Train Epoch: 9 [0/50000 (0%)]\tLoss: 1.182656\n",
      "Train Epoch: 9 [10000/50000 (20%)]\tLoss: 1.001429\n",
      "Train Epoch: 9 [20000/50000 (40%)]\tLoss: 1.665159\n",
      "Train Epoch: 9 [30000/50000 (60%)]\tLoss: 2.286081\n",
      "Train Epoch: 9 [40000/50000 (80%)]\tLoss: 2.422857\n",
      "\n",
      "Validation set: Average loss: 1.7762, Accuracy: 3750/10000 (37%)\n",
      "\n",
      "Train Epoch: 10 [0/50000 (0%)]\tLoss: 1.805396\n",
      "Train Epoch: 10 [10000/50000 (20%)]\tLoss: 2.287970\n",
      "Train Epoch: 10 [20000/50000 (40%)]\tLoss: 1.714006\n",
      "Train Epoch: 10 [30000/50000 (60%)]\tLoss: 1.952024\n",
      "Train Epoch: 10 [40000/50000 (80%)]\tLoss: 2.364878\n",
      "\n",
      "Validation set: Average loss: 1.7634, Accuracy: 3835/10000 (38%)\n",
      "\n",
      "Train Epoch: 11 [0/50000 (0%)]\tLoss: 2.424276\n",
      "Train Epoch: 11 [10000/50000 (20%)]\tLoss: 1.429815\n",
      "Train Epoch: 11 [20000/50000 (40%)]\tLoss: 2.092948\n",
      "Train Epoch: 11 [30000/50000 (60%)]\tLoss: 1.412494\n",
      "Train Epoch: 11 [40000/50000 (80%)]\tLoss: 1.624336\n",
      "\n",
      "Validation set: Average loss: 1.7531, Accuracy: 3832/10000 (38%)\n",
      "\n",
      "Train Epoch: 12 [0/50000 (0%)]\tLoss: 1.779438\n",
      "Train Epoch: 12 [10000/50000 (20%)]\tLoss: 2.348318\n",
      "Train Epoch: 12 [20000/50000 (40%)]\tLoss: 1.463677\n",
      "Train Epoch: 12 [30000/50000 (60%)]\tLoss: 1.436535\n",
      "Train Epoch: 12 [40000/50000 (80%)]\tLoss: 0.959760\n",
      "\n",
      "Validation set: Average loss: 1.7457, Accuracy: 3868/10000 (38%)\n",
      "\n",
      "Train Epoch: 13 [0/50000 (0%)]\tLoss: 3.845372\n",
      "Train Epoch: 13 [10000/50000 (20%)]\tLoss: 1.497992\n",
      "Train Epoch: 13 [20000/50000 (40%)]\tLoss: 2.571769\n",
      "Train Epoch: 13 [30000/50000 (60%)]\tLoss: 0.744491\n",
      "Train Epoch: 13 [40000/50000 (80%)]\tLoss: 2.042469\n",
      "\n",
      "Validation set: Average loss: 1.7379, Accuracy: 3930/10000 (39%)\n",
      "\n",
      "Train Epoch: 14 [0/50000 (0%)]\tLoss: 2.333849\n",
      "Train Epoch: 14 [10000/50000 (20%)]\tLoss: 1.447342\n",
      "Train Epoch: 14 [20000/50000 (40%)]\tLoss: 1.079556\n",
      "Train Epoch: 14 [30000/50000 (60%)]\tLoss: 2.830741\n",
      "Train Epoch: 14 [40000/50000 (80%)]\tLoss: 1.880408\n",
      "\n",
      "Validation set: Average loss: 1.7330, Accuracy: 3908/10000 (39%)\n",
      "\n",
      "Train Epoch: 15 [0/50000 (0%)]\tLoss: 2.076274\n",
      "Train Epoch: 15 [10000/50000 (20%)]\tLoss: 1.930374\n",
      "Train Epoch: 15 [20000/50000 (40%)]\tLoss: 1.510973\n",
      "Train Epoch: 15 [30000/50000 (60%)]\tLoss: 1.719546\n",
      "Train Epoch: 15 [40000/50000 (80%)]\tLoss: 1.352909\n",
      "\n",
      "Validation set: Average loss: 1.7267, Accuracy: 3928/10000 (39%)\n",
      "\n",
      "Train Epoch: 16 [0/50000 (0%)]\tLoss: 1.635430\n",
      "Train Epoch: 16 [10000/50000 (20%)]\tLoss: 2.032024\n",
      "Train Epoch: 16 [20000/50000 (40%)]\tLoss: 2.522823\n",
      "Train Epoch: 16 [30000/50000 (60%)]\tLoss: 1.780680\n",
      "Train Epoch: 16 [40000/50000 (80%)]\tLoss: 1.021988\n",
      "\n",
      "Validation set: Average loss: 1.7215, Accuracy: 3965/10000 (39%)\n",
      "\n",
      "Train Epoch: 17 [0/50000 (0%)]\tLoss: 2.262385\n",
      "Train Epoch: 17 [10000/50000 (20%)]\tLoss: 1.772967\n",
      "Train Epoch: 17 [20000/50000 (40%)]\tLoss: 2.212341\n",
      "Train Epoch: 17 [30000/50000 (60%)]\tLoss: 1.056403\n",
      "Train Epoch: 17 [40000/50000 (80%)]\tLoss: 1.551034\n",
      "\n",
      "Validation set: Average loss: 1.7167, Accuracy: 3964/10000 (39%)\n",
      "\n",
      "Train Epoch: 18 [0/50000 (0%)]\tLoss: 2.113165\n",
      "Train Epoch: 18 [10000/50000 (20%)]\tLoss: 1.523880\n",
      "Train Epoch: 18 [20000/50000 (40%)]\tLoss: 1.443638\n",
      "Train Epoch: 18 [30000/50000 (60%)]\tLoss: 1.439473\n",
      "Train Epoch: 18 [40000/50000 (80%)]\tLoss: 2.222714\n",
      "\n",
      "Validation set: Average loss: 1.7126, Accuracy: 3975/10000 (39%)\n",
      "\n",
      "Train Epoch: 19 [0/50000 (0%)]\tLoss: 2.771211\n",
      "Train Epoch: 19 [10000/50000 (20%)]\tLoss: 1.416103\n",
      "Train Epoch: 19 [20000/50000 (40%)]\tLoss: 1.166279\n",
      "Train Epoch: 19 [30000/50000 (60%)]\tLoss: 1.950775\n",
      "Train Epoch: 19 [40000/50000 (80%)]\tLoss: 1.764853\n",
      "\n",
      "Validation set: Average loss: 1.7097, Accuracy: 4006/10000 (40%)\n",
      "\n",
      "Train Epoch: 20 [0/50000 (0%)]\tLoss: 2.394395\n",
      "Train Epoch: 20 [10000/50000 (20%)]\tLoss: 2.352725\n",
      "Train Epoch: 20 [20000/50000 (40%)]\tLoss: 1.425879\n",
      "Train Epoch: 20 [30000/50000 (60%)]\tLoss: 2.781069\n",
      "Train Epoch: 20 [40000/50000 (80%)]\tLoss: 2.092380\n",
      "\n",
      "Validation set: Average loss: 1.7049, Accuracy: 3996/10000 (39%)\n",
      "\n",
      "Train Epoch: 21 [0/50000 (0%)]\tLoss: 1.570959\n",
      "Train Epoch: 21 [10000/50000 (20%)]\tLoss: 1.641342\n",
      "Train Epoch: 21 [20000/50000 (40%)]\tLoss: 1.239458\n",
      "Train Epoch: 21 [30000/50000 (60%)]\tLoss: 1.678980\n",
      "Train Epoch: 21 [40000/50000 (80%)]\tLoss: 1.469138\n",
      "\n",
      "Validation set: Average loss: 1.7055, Accuracy: 4006/10000 (40%)\n",
      "\n",
      "Train Epoch: 22 [0/50000 (0%)]\tLoss: 0.990787\n",
      "Train Epoch: 22 [10000/50000 (20%)]\tLoss: 1.730487\n",
      "Train Epoch: 22 [20000/50000 (40%)]\tLoss: 2.836352\n",
      "Train Epoch: 22 [30000/50000 (60%)]\tLoss: 1.223304\n",
      "Train Epoch: 22 [40000/50000 (80%)]\tLoss: 2.171583\n",
      "\n",
      "Validation set: Average loss: 1.7009, Accuracy: 4045/10000 (40%)\n",
      "\n",
      "Train Epoch: 23 [0/50000 (0%)]\tLoss: 1.739135\n",
      "Train Epoch: 23 [10000/50000 (20%)]\tLoss: 2.056929\n",
      "Train Epoch: 23 [20000/50000 (40%)]\tLoss: 1.810616\n",
      "Train Epoch: 23 [30000/50000 (60%)]\tLoss: 1.623925\n",
      "Train Epoch: 23 [40000/50000 (80%)]\tLoss: 1.280171\n",
      "\n",
      "Validation set: Average loss: 1.6989, Accuracy: 4037/10000 (40%)\n",
      "\n",
      "Train Epoch: 24 [0/50000 (0%)]\tLoss: 1.369787\n",
      "Train Epoch: 24 [10000/50000 (20%)]\tLoss: 1.278518\n",
      "Train Epoch: 24 [20000/50000 (40%)]\tLoss: 1.312289\n",
      "Train Epoch: 24 [30000/50000 (60%)]\tLoss: 2.224416\n",
      "Train Epoch: 24 [40000/50000 (80%)]\tLoss: 2.319831\n",
      "\n",
      "Validation set: Average loss: 1.6992, Accuracy: 4051/10000 (40%)\n",
      "\n",
      "Train Epoch: 25 [0/50000 (0%)]\tLoss: 1.413780\n",
      "Train Epoch: 25 [10000/50000 (20%)]\tLoss: 1.697027\n",
      "Train Epoch: 25 [20000/50000 (40%)]\tLoss: 1.079081\n",
      "Train Epoch: 25 [30000/50000 (60%)]\tLoss: 1.833130\n",
      "Train Epoch: 25 [40000/50000 (80%)]\tLoss: 1.443086\n",
      "\n",
      "Validation set: Average loss: 1.6950, Accuracy: 4052/10000 (40%)\n",
      "\n",
      "Train Epoch: 26 [0/50000 (0%)]\tLoss: 1.324114\n",
      "Train Epoch: 26 [10000/50000 (20%)]\tLoss: 1.258641\n",
      "Train Epoch: 26 [20000/50000 (40%)]\tLoss: 1.989002\n",
      "Train Epoch: 26 [30000/50000 (60%)]\tLoss: 1.654396\n",
      "Train Epoch: 26 [40000/50000 (80%)]\tLoss: 1.361333\n",
      "\n",
      "Validation set: Average loss: 1.6962, Accuracy: 4027/10000 (40%)\n",
      "\n",
      "Train Epoch: 27 [0/50000 (0%)]\tLoss: 1.439529\n"
     ]
    },
    {
     "name": "stdout",
     "output_type": "stream",
     "text": [
      "Train Epoch: 27 [10000/50000 (20%)]\tLoss: 1.413893\n",
      "Train Epoch: 27 [20000/50000 (40%)]\tLoss: 1.437394\n",
      "Train Epoch: 27 [30000/50000 (60%)]\tLoss: 1.892956\n",
      "Train Epoch: 27 [40000/50000 (80%)]\tLoss: 1.141332\n",
      "\n",
      "Validation set: Average loss: 1.6919, Accuracy: 4064/10000 (40%)\n",
      "\n",
      "Train Epoch: 28 [0/50000 (0%)]\tLoss: 1.775228\n",
      "Train Epoch: 28 [10000/50000 (20%)]\tLoss: 0.972712\n",
      "Train Epoch: 28 [20000/50000 (40%)]\tLoss: 1.450484\n",
      "Train Epoch: 28 [30000/50000 (60%)]\tLoss: 1.161095\n",
      "Train Epoch: 28 [40000/50000 (80%)]\tLoss: 1.187896\n",
      "\n",
      "Validation set: Average loss: 1.6950, Accuracy: 4044/10000 (40%)\n",
      "\n",
      "Train Epoch: 29 [0/50000 (0%)]\tLoss: 1.697028\n",
      "Train Epoch: 29 [10000/50000 (20%)]\tLoss: 1.221296\n",
      "Train Epoch: 29 [20000/50000 (40%)]\tLoss: 1.156909\n",
      "Train Epoch: 29 [30000/50000 (60%)]\tLoss: 1.207616\n",
      "Train Epoch: 29 [40000/50000 (80%)]\tLoss: 2.206186\n",
      "\n",
      "Validation set: Average loss: 1.6940, Accuracy: 4030/10000 (40%)\n",
      "\n",
      "Train Epoch: 30 [0/50000 (0%)]\tLoss: 1.629604\n",
      "Train Epoch: 30 [10000/50000 (20%)]\tLoss: 2.818053\n",
      "Train Epoch: 30 [20000/50000 (40%)]\tLoss: 1.235499\n",
      "Train Epoch: 30 [30000/50000 (60%)]\tLoss: 1.217379\n",
      "Train Epoch: 30 [40000/50000 (80%)]\tLoss: 0.970897\n",
      "\n",
      "Validation set: Average loss: 1.6894, Accuracy: 4082/10000 (40%)\n",
      "\n",
      "Train Epoch: 31 [0/50000 (0%)]\tLoss: 1.317292\n",
      "Train Epoch: 31 [10000/50000 (20%)]\tLoss: 1.789786\n",
      "Train Epoch: 31 [20000/50000 (40%)]\tLoss: 1.785489\n",
      "Train Epoch: 31 [30000/50000 (60%)]\tLoss: 1.382724\n",
      "Train Epoch: 31 [40000/50000 (80%)]\tLoss: 0.913117\n",
      "\n",
      "Validation set: Average loss: 1.6889, Accuracy: 4066/10000 (40%)\n",
      "\n",
      "Train Epoch: 32 [0/50000 (0%)]\tLoss: 1.841496\n",
      "Train Epoch: 32 [10000/50000 (20%)]\tLoss: 1.282083\n",
      "Train Epoch: 32 [20000/50000 (40%)]\tLoss: 2.404719\n",
      "Train Epoch: 32 [30000/50000 (60%)]\tLoss: 1.276921\n",
      "Train Epoch: 32 [40000/50000 (80%)]\tLoss: 1.653660\n",
      "\n",
      "Validation set: Average loss: 1.6864, Accuracy: 4078/10000 (40%)\n",
      "\n",
      "Train Epoch: 33 [0/50000 (0%)]\tLoss: 2.006442\n",
      "Train Epoch: 33 [10000/50000 (20%)]\tLoss: 1.422998\n",
      "Train Epoch: 33 [20000/50000 (40%)]\tLoss: 2.202427\n",
      "Train Epoch: 33 [30000/50000 (60%)]\tLoss: 1.549413\n",
      "Train Epoch: 33 [40000/50000 (80%)]\tLoss: 1.837410\n",
      "\n",
      "Validation set: Average loss: 1.6881, Accuracy: 4048/10000 (40%)\n",
      "\n",
      "Train Epoch: 34 [0/50000 (0%)]\tLoss: 1.380754\n",
      "Train Epoch: 34 [10000/50000 (20%)]\tLoss: 1.287903\n",
      "Train Epoch: 34 [20000/50000 (40%)]\tLoss: 1.311569\n",
      "Train Epoch: 34 [30000/50000 (60%)]\tLoss: 1.496640\n",
      "Train Epoch: 34 [40000/50000 (80%)]\tLoss: 1.591292\n",
      "\n",
      "Validation set: Average loss: 1.6887, Accuracy: 4075/10000 (40%)\n",
      "\n",
      "Train Epoch: 35 [0/50000 (0%)]\tLoss: 1.205095\n",
      "Train Epoch: 35 [10000/50000 (20%)]\tLoss: 1.187231\n",
      "Train Epoch: 35 [20000/50000 (40%)]\tLoss: 1.338207\n",
      "Train Epoch: 35 [30000/50000 (60%)]\tLoss: 1.825186\n",
      "Train Epoch: 35 [40000/50000 (80%)]\tLoss: 2.230722\n",
      "\n",
      "Validation set: Average loss: 1.6861, Accuracy: 4058/10000 (40%)\n",
      "\n",
      "Train Epoch: 36 [0/50000 (0%)]\tLoss: 2.021271\n",
      "Train Epoch: 36 [10000/50000 (20%)]\tLoss: 2.154998\n",
      "Train Epoch: 36 [20000/50000 (40%)]\tLoss: 1.480425\n",
      "Train Epoch: 36 [30000/50000 (60%)]\tLoss: 1.572274\n",
      "Train Epoch: 36 [40000/50000 (80%)]\tLoss: 1.244778\n",
      "\n",
      "Validation set: Average loss: 1.6851, Accuracy: 4081/10000 (40%)\n",
      "\n",
      "Train Epoch: 37 [0/50000 (0%)]\tLoss: 1.812249\n",
      "Train Epoch: 37 [10000/50000 (20%)]\tLoss: 1.831610\n",
      "Train Epoch: 37 [20000/50000 (40%)]\tLoss: 1.489466\n",
      "Train Epoch: 37 [30000/50000 (60%)]\tLoss: 1.367663\n",
      "Train Epoch: 37 [40000/50000 (80%)]\tLoss: 1.648681\n",
      "\n",
      "Validation set: Average loss: 1.6870, Accuracy: 4054/10000 (40%)\n",
      "\n",
      "Train Epoch: 38 [0/50000 (0%)]\tLoss: 2.710826\n",
      "Train Epoch: 38 [10000/50000 (20%)]\tLoss: 1.549283\n",
      "Train Epoch: 38 [20000/50000 (40%)]\tLoss: 1.228571\n",
      "Train Epoch: 38 [30000/50000 (60%)]\tLoss: 1.825485\n",
      "Train Epoch: 38 [40000/50000 (80%)]\tLoss: 1.245839\n",
      "\n",
      "Validation set: Average loss: 1.6847, Accuracy: 4112/10000 (41%)\n",
      "\n",
      "Train Epoch: 39 [0/50000 (0%)]\tLoss: 1.202692\n"
     ]
    },
    {
     "ename": "KeyboardInterrupt",
     "evalue": "",
     "output_type": "error",
     "traceback": [
      "\u001b[0;31m---------------------------------------------------------------------------\u001b[0m",
      "\u001b[0;31mKeyboardInterrupt\u001b[0m                         Traceback (most recent call last)",
      "\u001b[0;32m<ipython-input-34-0319d342e8a6>\u001b[0m in \u001b[0;36m<module>\u001b[0;34m\u001b[0m\n\u001b[1;32m      7\u001b[0m \u001b[0macc_vector\u001b[0m \u001b[0;34m=\u001b[0m \u001b[0;34m[\u001b[0m\u001b[0;34m]\u001b[0m\u001b[0;34m\u001b[0m\u001b[0;34m\u001b[0m\u001b[0m\n\u001b[1;32m      8\u001b[0m \u001b[0;32mfor\u001b[0m \u001b[0mepoch\u001b[0m \u001b[0;32min\u001b[0m \u001b[0mrange\u001b[0m\u001b[0;34m(\u001b[0m\u001b[0;36m1\u001b[0m\u001b[0;34m,\u001b[0m \u001b[0mEPOCHS\u001b[0m \u001b[0;34m+\u001b[0m \u001b[0;36m1\u001b[0m\u001b[0;34m)\u001b[0m\u001b[0;34m:\u001b[0m\u001b[0;34m\u001b[0m\u001b[0;34m\u001b[0m\u001b[0m\n\u001b[0;32m----> 9\u001b[0;31m     \u001b[0mtrain\u001b[0m\u001b[0;34m(\u001b[0m\u001b[0mepoch\u001b[0m\u001b[0;34m,\u001b[0m \u001b[0mmodel\u001b[0m\u001b[0;34m,\u001b[0m \u001b[0mtrain_loader\u001b[0m\u001b[0;34m,\u001b[0m \u001b[0moptimizer\u001b[0m\u001b[0;34m,\u001b[0m \u001b[0mcuda\u001b[0m\u001b[0;34m=\u001b[0m\u001b[0mcuda\u001b[0m\u001b[0;34m)\u001b[0m\u001b[0;34m\u001b[0m\u001b[0;34m\u001b[0m\u001b[0m\n\u001b[0m\u001b[1;32m     10\u001b[0m     \u001b[0mvalidate\u001b[0m\u001b[0;34m(\u001b[0m\u001b[0mloss_vector\u001b[0m\u001b[0;34m,\u001b[0m \u001b[0macc_vector\u001b[0m\u001b[0;34m,\u001b[0m \u001b[0mmodel\u001b[0m\u001b[0;34m,\u001b[0m \u001b[0mvalidation_loader\u001b[0m\u001b[0;34m,\u001b[0m \u001b[0mcuda\u001b[0m\u001b[0;34m=\u001b[0m\u001b[0mcuda\u001b[0m\u001b[0;34m)\u001b[0m\u001b[0;34m\u001b[0m\u001b[0;34m\u001b[0m\u001b[0m\n\u001b[1;32m     11\u001b[0m     \u001b[0;32mif\u001b[0m \u001b[0mepoch\u001b[0m \u001b[0;34m==\u001b[0m \u001b[0;36m40\u001b[0m\u001b[0;34m:\u001b[0m\u001b[0;34m\u001b[0m\u001b[0;34m\u001b[0m\u001b[0m\n",
      "\u001b[0;32m<ipython-input-31-c01ce8199017>\u001b[0m in \u001b[0;36mtrain\u001b[0;34m(epoch, model, train_loader, optimizer, log_interval, cuda)\u001b[0m\n\u001b[1;32m      7\u001b[0m         \u001b[0moutput\u001b[0m \u001b[0;34m=\u001b[0m \u001b[0mmodel\u001b[0m\u001b[0;34m(\u001b[0m\u001b[0mdata\u001b[0m\u001b[0;34m)\u001b[0m\u001b[0;34m\u001b[0m\u001b[0;34m\u001b[0m\u001b[0m\n\u001b[1;32m      8\u001b[0m \u001b[0;34m\u001b[0m\u001b[0m\n\u001b[0;32m----> 9\u001b[0;31m         \u001b[0mpred\u001b[0m \u001b[0;34m=\u001b[0m \u001b[0moutput\u001b[0m\u001b[0;34m.\u001b[0m\u001b[0mdata\u001b[0m\u001b[0;34m.\u001b[0m\u001b[0mmax\u001b[0m\u001b[0;34m(\u001b[0m\u001b[0;36m1\u001b[0m\u001b[0;34m)\u001b[0m\u001b[0;34m[\u001b[0m\u001b[0;36m1\u001b[0m\u001b[0;34m]\u001b[0m \u001b[0;31m# get the index of the max log-probability\u001b[0m\u001b[0;34m\u001b[0m\u001b[0;34m\u001b[0m\u001b[0m\n\u001b[0m\u001b[1;32m     10\u001b[0m         \u001b[0mcorrect\u001b[0m \u001b[0;34m+=\u001b[0m \u001b[0mpred\u001b[0m\u001b[0;34m.\u001b[0m\u001b[0meq\u001b[0m\u001b[0;34m(\u001b[0m\u001b[0mtarget\u001b[0m\u001b[0;34m.\u001b[0m\u001b[0mdata\u001b[0m\u001b[0;34m)\u001b[0m\u001b[0;34m.\u001b[0m\u001b[0mcpu\u001b[0m\u001b[0;34m(\u001b[0m\u001b[0;34m)\u001b[0m\u001b[0;34m.\u001b[0m\u001b[0msum\u001b[0m\u001b[0;34m(\u001b[0m\u001b[0;34m)\u001b[0m\u001b[0;34m\u001b[0m\u001b[0;34m\u001b[0m\u001b[0m\n\u001b[1;32m     11\u001b[0m         \u001b[0maccuracy\u001b[0m \u001b[0;34m=\u001b[0m \u001b[0;36m100.\u001b[0m \u001b[0;34m*\u001b[0m \u001b[0mcorrect\u001b[0m \u001b[0;34m/\u001b[0m \u001b[0mlen\u001b[0m\u001b[0;34m(\u001b[0m\u001b[0mtrain_loader\u001b[0m\u001b[0;34m.\u001b[0m\u001b[0mdataset\u001b[0m\u001b[0;34m)\u001b[0m\u001b[0;34m\u001b[0m\u001b[0;34m\u001b[0m\u001b[0m\n",
      "\u001b[0;31mKeyboardInterrupt\u001b[0m: "
     ]
    }
   ],
   "source": [
    "hidden_nodes = 10\n",
    "layers = 1\n",
    "cuda = None\n",
    "model = Net(hidden_nodes, layers)\n",
    "optimizer = torch.optim.SGD(model.parameters(), lr=LEARNING_RATE)\n",
    "loss_vector = []\n",
    "acc_vector = []\n",
    "for epoch in range(1, EPOCHS + 1):\n",
    "    train(epoch, model, train_loader, optimizer, cuda=cuda)\n",
    "    validate(loss_vector, acc_vector, model, validation_loader, cuda=cuda)\n",
    "    if epoch == 40:\n",
    "        break"
   ]
  },
  {
   "cell_type": "markdown",
   "metadata": {
    "colab_type": "text",
    "id": "eLhItbeMf4iO"
   },
   "source": [
    "Итак, мы обучили нашу сеть проходами по обучающей выборке. Давайте проверим, обучилась ли наша сеть. Проверим это путем предсказания меток классов для валидационной выборки."
   ]
  },
  {
   "cell_type": "code",
   "execution_count": 0,
   "metadata": {
    "colab": {
     "base_uri": "https://localhost:8080/",
     "height": 361
    },
    "colab_type": "code",
    "id": "cuELsbq3f4iP",
    "outputId": "5e746be0-1e6f-4224-eca2-e6e4d1df8ac1"
   },
   "outputs": [
    {
     "data": {
      "image/png": "[encoded data removed]",
      "text/plain": [
       "<matplotlib.figure.Figure at 0x7f50a2a3e8d0>"
      ]
     },
     "metadata": {
      "tags": []
     },
     "output_type": "display_data"
    }
   ],
   "source": [
    "# Plot train loss and validation accuracy vs epochs for each learning rate\n",
    "model.load_state_dict(torch.load('Second_Model.pt'))\n",
    "epochs = [i for i in range(1, 41)]\n",
    "plt.plot(epochs, loss_vector)\n",
    "plt.xlabel(\"Epochs\")\n",
    "plt.ylabel(\"Loss\")\n",
    "plt.show()"
   ]
  },
  {
   "cell_type": "code",
   "execution_count": 0,
   "metadata": {
    "colab": {
     "base_uri": "https://localhost:8080/",
     "height": 184
    },
    "colab_type": "code",
    "id": "IDJfSHQif4iR",
    "outputId": "9954aef3-ee83-407a-8cce-b15d5c9c9552"
   },
   "outputs": [
    {
     "name": "stdout",
     "output_type": "stream",
     "text": [
      "GroundTruth:    cat  ship  ship plane\n"
     ]
    },
    {
     "data": {
      "image/png": "[encoded data removed]",
      "text/plain": [
       "<matplotlib.figure.Figure at 0x7f50a205b198>"
      ]
     },
     "metadata": {
      "tags": []
     },
     "output_type": "display_data"
    }
   ],
   "source": [
    "dataiter = iter(validation_loader)\n",
    "images, labels = dataiter.next()\n",
    "\n",
    "# выведем наши предсказания\n",
    "imshow(torchvision.utils.make_grid(images))\n",
    "print('GroundTruth: ', ' '.join('%5s' % CLASSES[labels[j]] for j in range(4)))\n",
    "\n",
    "outputs=model(images)"
   ]
  },
  {
   "cell_type": "code",
   "execution_count": 0,
   "metadata": {
    "colab": {
     "base_uri": "https://localhost:8080/",
     "height": 34
    },
    "colab_type": "code",
    "id": "1Bt-VRMvf4iU",
    "outputId": "beadd68f-1b05-49e0-f3f9-abd62e1b4f1f"
   },
   "outputs": [
    {
     "name": "stdout",
     "output_type": "stream",
     "text": [
      "Predicted:    dog truck  ship plane\n"
     ]
    }
   ],
   "source": [
    "_, predicted = torch.max(outputs, 1)\n",
    "\n",
    "print('Predicted: ', ' '.join('%5s' % CLASSES[predicted[j]]\n",
    "                              for j in range(4)))"
   ]
  },
  {
   "cell_type": "markdown",
   "metadata": {
    "colab_type": "text",
    "id": "FQYwDNB_f4iW"
   },
   "source": [
    "Протестируем на всем тесте:"
   ]
  },
  {
   "cell_type": "code",
   "execution_count": 0,
   "metadata": {
    "colab": {
     "base_uri": "https://localhost:8080/",
     "height": 34
    },
    "colab_type": "code",
    "id": "6ZD9Lxi1f4iX",
    "outputId": "d02c4568-9080-467f-d276-5ecb208fc38a"
   },
   "outputs": [
    {
     "name": "stdout",
     "output_type": "stream",
     "text": [
      "Accuracy of the network on the 10000 test images: 41 %\n"
     ]
    }
   ],
   "source": [
    "correct = 0\n",
    "total = 0\n",
    "with torch.no_grad():\n",
    "    for data in validation_loader:\n",
    "        images, labels = data\n",
    "        outputs = model(images)\n",
    "        _, predicted = torch.max(outputs.data, 1)\n",
    "        total += labels.size(0)\n",
    "        correct += (predicted == labels).sum().item()\n",
    "\n",
    "print('Accuracy of the network on the 10000 test images: %d %%' % (\n",
    "    100 * correct / total))"
   ]
  },
  {
   "cell_type": "code",
   "execution_count": 0,
   "metadata": {
    "colab": {
     "base_uri": "https://localhost:8080/",
     "height": 187
    },
    "colab_type": "code",
    "id": "2uxu2qysf4ia",
    "outputId": "b00681dd-4454-4cfa-be41-19a4b3eab582"
   },
   "outputs": [
    {
     "name": "stdout",
     "output_type": "stream",
     "text": [
      "Accuracy of plane : 49 %\n",
      "Accuracy of   car : 49 %\n",
      "Accuracy of  bird : 15 %\n",
      "Accuracy of   cat : 21 %\n",
      "Accuracy of  deer : 35 %\n",
      "Accuracy of   dog : 31 %\n",
      "Accuracy of  frog : 59 %\n",
      "Accuracy of horse : 48 %\n",
      "Accuracy of  ship : 56 %\n",
      "Accuracy of truck : 48 %\n"
     ]
    }
   ],
   "source": [
    "class_correct = list(0. for i in range(10))\n",
    "class_total = list(0. for i in range(10))\n",
    "with torch.no_grad():\n",
    "    for data in validation_loader:\n",
    "        images, labels = data\n",
    "        outputs = model(images)\n",
    "        _, predicted = torch.max(outputs, 1)\n",
    "        c = (predicted == labels).squeeze()\n",
    "        for i in range(4):\n",
    "            label = labels[i]\n",
    "            class_correct[label] += c[i].item()\n",
    "            class_total[label] += 1\n",
    "\n",
    "\n",
    "for i in range(10):\n",
    "    print('Accuracy of %5s : %2d %%' % (\n",
    "        CLASSES[i], 100 * class_correct[i] / class_total[i]))"
   ]
  },
  {
   "cell_type": "markdown",
   "metadata": {
    "colab_type": "text",
    "id": "kRuFMmwvf4id"
   },
   "source": [
    "Каким образом мы можем улучшить качество распознавания и обучения?\n",
    "1. Добавить **dropout**\n",
    "\n",
    "2. Добавить **batchnorm** (2 семинар)\n",
    "3. Использовать свертки. Но об этом позже :)"
   ]
  },
  {
   "cell_type": "code",
   "execution_count": 0,
   "metadata": {
    "colab": {},
    "colab_type": "code",
    "id": "QwjLmYc7f4id"
   },
   "outputs": [],
   "source": [
    "class SecondNet(torch.nn.Module):\n",
    "    def __init__(self, n_hidden_nodes, n_hidden_layers,keep_rate=0.8):\n",
    "        super().__init__()\n",
    "        self.n_hidden_nodes = n_hidden_nodes\n",
    "        self.n_hidden_layers = n_hidden_layers\n",
    "#         if not keep_rate:\n",
    "#             keep_rate = 0.5\n",
    "#         self.keep_rate = keep_rate\n",
    "        # Set up perceptron layers and add dropout\n",
    "        self.fc1 = torch.nn.Linear(IMAGE_WIDTH * IMAGE_WIDTH * COLOR_CHANNELS,\n",
    "                                   self.n_hidden_nodes)\n",
    "        self.fc1_drop = torch.nn.Dropout(1 - keep_rate)\n",
    "        self.out = torch.nn.Linear(self.n_hidden_nodes, N_CLASSES)\n",
    "    \n",
    "    def forward(self, x):\n",
    "        x = x.view(-1, IMAGE_WIDTH * IMAGE_WIDTH * COLOR_CHANNELS)\n",
    "        sigmoid = torch.nn.Sigmoid()\n",
    "        x = sigmoid(self.fc1(x))\n",
    "        x = self.fc1_drop(x)\n",
    "        return torch.nn.functional.log_softmax(self.out(x))\n"
   ]
  },
  {
   "cell_type": "code",
   "execution_count": 0,
   "metadata": {
    "colab": {
     "base_uri": "https://localhost:8080/",
     "height": 2450
    },
    "colab_type": "code",
    "id": "l6aah5zAf4ig",
    "outputId": "8501d9b1-b125-4680-85b5-4596f95c8e17"
   },
   "outputs": [
    {
     "name": "stdout",
     "output_type": "stream",
     "text": [
      "Train Epoch: 1 [0/50000 (0%)]\tLoss: 2.338229\n",
      "Train Epoch: 1 [40000/50000 (80%)]\tLoss: 2.356363\n",
      "\n",
      "Validation set: Average loss: 1.9368, Accuracy: 3253/10000 (32%)\n",
      "\n",
      "Train Epoch: 2 [0/50000 (0%)]\tLoss: 2.300326\n",
      "Train Epoch: 2 [40000/50000 (80%)]\tLoss: 1.809654\n",
      "\n",
      "Validation set: Average loss: 1.8590, Accuracy: 3606/10000 (36%)\n",
      "\n",
      "Train Epoch: 3 [0/50000 (0%)]\tLoss: 3.370393\n",
      "Train Epoch: 3 [40000/50000 (80%)]\tLoss: 1.909336\n",
      "\n",
      "Validation set: Average loss: 1.8124, Accuracy: 3713/10000 (37%)\n",
      "\n",
      "Train Epoch: 4 [0/50000 (0%)]\tLoss: 2.186283\n",
      "Train Epoch: 4 [40000/50000 (80%)]\tLoss: 2.361922\n",
      "\n",
      "Validation set: Average loss: 1.7815, Accuracy: 3809/10000 (38%)\n",
      "\n",
      "Train Epoch: 5 [0/50000 (0%)]\tLoss: 0.897958\n",
      "Train Epoch: 5 [40000/50000 (80%)]\tLoss: 1.988269\n",
      "\n",
      "Validation set: Average loss: 1.7591, Accuracy: 3885/10000 (38%)\n",
      "\n",
      "Train Epoch: 6 [0/50000 (0%)]\tLoss: 1.896815\n",
      "Train Epoch: 6 [40000/50000 (80%)]\tLoss: 1.614118\n",
      "\n",
      "Validation set: Average loss: 1.7428, Accuracy: 3922/10000 (39%)\n",
      "\n",
      "Train Epoch: 7 [0/50000 (0%)]\tLoss: 1.760607\n",
      "Train Epoch: 7 [40000/50000 (80%)]\tLoss: 2.053325\n",
      "\n",
      "Validation set: Average loss: 1.7305, Accuracy: 3995/10000 (39%)\n",
      "\n",
      "Train Epoch: 8 [0/50000 (0%)]\tLoss: 1.926093\n",
      "Train Epoch: 8 [40000/50000 (80%)]\tLoss: 2.213455\n",
      "\n",
      "Validation set: Average loss: 1.7185, Accuracy: 3965/10000 (39%)\n",
      "\n",
      "Train Epoch: 9 [0/50000 (0%)]\tLoss: 2.189739\n",
      "Train Epoch: 9 [40000/50000 (80%)]\tLoss: 1.453444\n",
      "\n",
      "Validation set: Average loss: 1.7085, Accuracy: 4042/10000 (40%)\n",
      "\n",
      "Train Epoch: 10 [0/50000 (0%)]\tLoss: 2.820039\n",
      "Train Epoch: 10 [40000/50000 (80%)]\tLoss: 1.548236\n",
      "\n",
      "Validation set: Average loss: 1.6996, Accuracy: 4098/10000 (40%)\n",
      "\n",
      "Train Epoch: 11 [0/50000 (0%)]\tLoss: 2.072497\n",
      "Train Epoch: 11 [40000/50000 (80%)]\tLoss: 1.271940\n",
      "\n",
      "Validation set: Average loss: 1.6920, Accuracy: 4122/10000 (41%)\n",
      "\n",
      "Train Epoch: 12 [0/50000 (0%)]\tLoss: 1.995679\n",
      "Train Epoch: 12 [40000/50000 (80%)]\tLoss: 1.331770\n",
      "\n",
      "Validation set: Average loss: 1.6854, Accuracy: 4136/10000 (41%)\n",
      "\n",
      "Train Epoch: 13 [0/50000 (0%)]\tLoss: 2.023359\n",
      "Train Epoch: 13 [40000/50000 (80%)]\tLoss: 2.044176\n",
      "\n",
      "Validation set: Average loss: 1.6779, Accuracy: 4185/10000 (41%)\n",
      "\n",
      "Train Epoch: 14 [0/50000 (0%)]\tLoss: 1.057836\n",
      "Train Epoch: 14 [40000/50000 (80%)]\tLoss: 1.065666\n",
      "\n",
      "Validation set: Average loss: 1.6732, Accuracy: 4215/10000 (42%)\n",
      "\n",
      "Train Epoch: 15 [0/50000 (0%)]\tLoss: 1.633729\n",
      "Train Epoch: 15 [40000/50000 (80%)]\tLoss: 0.986622\n",
      "\n",
      "Validation set: Average loss: 1.6654, Accuracy: 4238/10000 (42%)\n",
      "\n",
      "Train Epoch: 16 [0/50000 (0%)]\tLoss: 1.434730\n",
      "Train Epoch: 16 [40000/50000 (80%)]\tLoss: 1.619697\n",
      "\n",
      "Validation set: Average loss: 1.6601, Accuracy: 4269/10000 (42%)\n",
      "\n",
      "Train Epoch: 17 [0/50000 (0%)]\tLoss: 1.651691\n",
      "Train Epoch: 17 [40000/50000 (80%)]\tLoss: 0.917030\n",
      "\n",
      "Validation set: Average loss: 1.6543, Accuracy: 4299/10000 (42%)\n",
      "\n",
      "Train Epoch: 18 [0/50000 (0%)]\tLoss: 1.009257\n",
      "Train Epoch: 18 [40000/50000 (80%)]\tLoss: 1.209028\n",
      "\n",
      "Validation set: Average loss: 1.6496, Accuracy: 4312/10000 (43%)\n",
      "\n",
      "Train Epoch: 19 [0/50000 (0%)]\tLoss: 1.292815\n",
      "Train Epoch: 19 [40000/50000 (80%)]\tLoss: 1.692756\n",
      "\n",
      "Validation set: Average loss: 1.6448, Accuracy: 4341/10000 (43%)\n",
      "\n",
      "Train Epoch: 20 [0/50000 (0%)]\tLoss: 1.113770\n",
      "Train Epoch: 20 [40000/50000 (80%)]\tLoss: 2.953823\n",
      "\n",
      "Validation set: Average loss: 1.6401, Accuracy: 4373/10000 (43%)\n",
      "\n",
      "Train Epoch: 21 [0/50000 (0%)]\tLoss: 1.531117\n",
      "Train Epoch: 21 [40000/50000 (80%)]\tLoss: 2.857919\n",
      "\n",
      "Validation set: Average loss: 1.6353, Accuracy: 4373/10000 (43%)\n",
      "\n",
      "Train Epoch: 22 [0/50000 (0%)]\tLoss: 1.897084\n",
      "Train Epoch: 22 [40000/50000 (80%)]\tLoss: 1.062314\n",
      "\n",
      "Validation set: Average loss: 1.6316, Accuracy: 4369/10000 (43%)\n",
      "\n",
      "Train Epoch: 23 [0/50000 (0%)]\tLoss: 0.908942\n",
      "Train Epoch: 23 [40000/50000 (80%)]\tLoss: 1.796218\n",
      "\n",
      "Validation set: Average loss: 1.6308, Accuracy: 4309/10000 (43%)\n",
      "\n",
      "Train Epoch: 24 [0/50000 (0%)]\tLoss: 2.410127\n",
      "Train Epoch: 24 [40000/50000 (80%)]\tLoss: 1.401630\n",
      "\n",
      "Validation set: Average loss: 1.6256, Accuracy: 4395/10000 (43%)\n",
      "\n",
      "Train Epoch: 25 [0/50000 (0%)]\tLoss: 1.398604\n",
      "Train Epoch: 25 [40000/50000 (80%)]\tLoss: 1.217162\n",
      "\n",
      "Validation set: Average loss: 1.6202, Accuracy: 4426/10000 (44%)\n",
      "\n",
      "Train Epoch: 26 [0/50000 (0%)]\tLoss: 1.325698\n",
      "Train Epoch: 26 [40000/50000 (80%)]\tLoss: 2.415255\n",
      "\n",
      "Validation set: Average loss: 1.6151, Accuracy: 4432/10000 (44%)\n",
      "\n",
      "Train Epoch: 27 [0/50000 (0%)]\tLoss: 1.280219\n",
      "Train Epoch: 27 [40000/50000 (80%)]\tLoss: 2.023754\n",
      "\n",
      "Validation set: Average loss: 1.6127, Accuracy: 4435/10000 (44%)\n",
      "\n",
      "Train Epoch: 28 [0/50000 (0%)]\tLoss: 2.280611\n",
      "Train Epoch: 28 [40000/50000 (80%)]\tLoss: 1.360426\n",
      "\n",
      "Validation set: Average loss: 1.6086, Accuracy: 4466/10000 (44%)\n",
      "\n",
      "Train Epoch: 29 [0/50000 (0%)]\tLoss: 1.772745\n",
      "Train Epoch: 29 [40000/50000 (80%)]\tLoss: 1.248500\n",
      "\n",
      "Validation set: Average loss: 1.6061, Accuracy: 4464/10000 (44%)\n",
      "\n",
      "Train Epoch: 30 [0/50000 (0%)]\tLoss: 1.648405\n"
     ]
    }
   ],
   "source": [
    "В Pytorch есть возможность запускать вычисления на GPU"
   ]
  },
  {
   "cell_type": "code",
   "execution_count": 35,
   "metadata": {
    "colab": {},
    "colab_type": "code",
    "id": "u3SvVLEAp4xg"
   },
   "outputs": [],
   "source": [
    "# to save model use torch.save(model.state_dict(), 'Second_Net.pt') \n",
    "# to load use model.load_state_dict(torch.load('Second_Model.pt'))"
   ]
  },
  {
   "cell_type": "code",
   "execution_count": 0,
   "metadata": {
    "colab": {
     "base_uri": "https://localhost:8080/",
     "height": 363
    },
    "colab_type": "code",
    "id": "p0Q-D23Qf4ii",
    "outputId": "3edd2f81-28ce-45c7-e745-621584528493"
   },
   "outputs": [
    {
     "data": {
      "image/png": "[encoded data removed]",
      "text/plain": [
       "<matplotlib.figure.Figure at 0x7f50a53e5a58>"
      ]
     },
     "metadata": {
      "tags": []
     },
     "output_type": "display_data"
    }
   ],
   "source": [
    "# Plot train loss and validation accuracy vs epochs for each learning rate\n",
    "epochs = [i for i in range(1, 31)]\n",
    "plt.plot(epochs, loss_vector)\n",
    "plt.xlabel(\"Epochs\")\n",
    "plt.ylabel(\"Loss\")\n",
    "plt.show()"
   ]
  },
  {
   "cell_type": "markdown",
   "metadata": {
    "colab_type": "text",
    "id": "y9US-3ZjrSBI"
   },
   "source": [
    "Попробуйте самостоятельно написать двуслойную сеть с дропаутом. Получилось ли улучшить результат?"
   ]
  },
  {
   "cell_type": "code",
   "execution_count": 0,
   "metadata": {
    "colab": {},
    "colab_type": "code",
    "id": "UZj3d7h7tRu9"
   },
   "outputs": [],
   "source": [
    "class TwoLayerNet(torch.nn.Module):\n",
    "    def __init__(self, n_hidden_nodes, n_hidden_layers,keep_rate=0):\n",
    "        super(TwoLayerNet, self).__init__()\n",
    "        self.n_hidden_nodes = n_hidden_nodes\n",
    "        self.n_hidden_layers = n_hidden_layers\n",
    "        if not keep_rate:\n",
    "            keep_rate = 0.5\n",
    "        self.keep_rate = keep_rate\n",
    "        # Set up perceptron layers and add dropout\n",
    "        self.fc1 = torch.nn.Linear(IMAGE_WIDTH * IMAGE_WIDTH * COLOR_CHANNELS,\n",
    "                                   n_hidden_nodes)\n",
    "        self.fc1_drop = torch.nn.Dropout(1 - keep_rate)\n",
    "        if n_hidden_layers == 2:\n",
    "            self.fc2 = #тут ваш код\n",
    "            self.fc2_drop = #тут ваш код\n",
    "\n",
    "        self.out = torch.nn.Linear(n_hidden_nodes, N_CLASSES)\n",
    "    \n",
    "    def forward(self, x):\n",
    "        x = x.view(-1, IMAGE_WIDTH * IMAGE_WIDTH * COLOR_CHANNELS)\n",
    "        sigmoid = torch.nn.Sigmoid()\n",
    "        #тут ваш код\n",
    "        return torch.nn.functional.log_softmax(self.out(x))"
   ]
  },
  {
   "cell_type": "code",
   "execution_count": 0,
   "metadata": {
    "colab": {},
    "colab_type": "code",
    "id": "VFtgxjJ6rPVr"
   },
   "outputs": [],
   "source": [
    "<Ваш код здесь>"
   ]
  }
 ],
 "metadata": {
  "colab": {
   "name": "Seminar7_1.ipynb",
   "provenance": [],
   "version": "0.3.2"
  },
  "kernelspec": {
   "display_name": "Python 3",
   "language": "python",
   "name": "python3"
  },
  "language_info": {
   "codemirror_mode": {
    "name": "ipython",
    "version": 3
   },
   "file_extension": ".py",
   "mimetype": "text/x-python",
   "name": "python",
   "nbconvert_exporter": "python",
   "pygments_lexer": "ipython3",
   "version": "3.6.8"
  }
 },
 "nbformat": 4,
 "nbformat_minor": 1
}
